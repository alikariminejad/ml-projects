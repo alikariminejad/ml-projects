{
 "cells": [
  {
   "cell_type": "code",
   "execution_count": 8,
   "metadata": {},
   "outputs": [
    {
     "name": "stderr",
     "output_type": "stream",
     "text": [
      "[nltk_data] Downloading package punkt to /home/ali/nltk_data...\n",
      "[nltk_data]   Unzipping tokenizers/punkt.zip.\n",
      "[nltk_data] Downloading package stopwords to /home/ali/nltk_data...\n",
      "[nltk_data]   Package stopwords is already up-to-date!\n"
     ]
    },
    {
     "data": {
      "text/plain": [
       "True"
      ]
     },
     "execution_count": 8,
     "metadata": {},
     "output_type": "execute_result"
    }
   ],
   "source": [
    "import string\n",
    "from heapq import nlargest\n",
    "import nltk\n",
    "nltk.download('punkt')\n",
    "nltk.download('stopwords')"
   ]
  },
  {
   "cell_type": "markdown",
   "metadata": {},
   "source": [
    "We don’t need to use a lot of machine learning here. We can easily summarize text without training a model. But still, we need to use some natural language processing, for that, I will be using the NLTK library in Python. "
   ]
  },
  {
   "cell_type": "markdown",
   "metadata": {},
   "source": [
    "Now let’s perform some steps for removing punctuations from the text, then we need to do some steps of text processing, and at the end, we will simply tokenize the text and then you can see the results for text summarization with Python:"
   ]
  },
  {
   "cell_type": "code",
   "execution_count": 13,
   "metadata": {},
   "outputs": [
    {
     "name": "stdout",
     "output_type": "stream",
     "text": [
      "Machine learning is a subset of AI that involves developing algorithms and statistical models that allow computers to improve their performance on a specific task through learning from data.\n"
     ]
    }
   ],
   "source": [
    "text = input(\"Enter text to summarize: \")\n",
    "if text.count(\". \") > 20:\n",
    "    length = int(round(text.count(\". \")/10,0))\n",
    "else:\n",
    "    length = 1\n",
    "\n",
    "nopuch = [char for char in text if char not in string.punctuation]\n",
    "nopuch = \"\".join(nopuch)\n",
    "processed_text = [word for word in nopuch.split() if word.lower() not in nltk.corpus.stopwords.words('english')]\n",
    "\n",
    "word_freq = {}\n",
    "for word in processed_text:\n",
    "    if word not in word_freq:\n",
    "        word_freq[word] = 1\n",
    "    else:\n",
    "        word_freq[word] = word_freq[word] + 1\n",
    "    \n",
    "max_freq = max(word_freq.values())\n",
    "for word in word_freq.keys():\n",
    "    word_freq[word] = (word_freq[word]/max_freq)\n",
    "\n",
    "sent_list = nltk.sent_tokenize(text)\n",
    "sent_score = {}\n",
    "for sent in sent_list:\n",
    "    for word in nltk.word_tokenize(sent.lower()):\n",
    "        if word in word_freq.keys():\n",
    "            if sent not in sent_score.keys():\n",
    "                sent_score[sent] = word_freq[word]\n",
    "            else:\n",
    "                sent_score[sent] = sent_score[sent] + word_freq[word]\n",
    "\n",
    "summary_sents = nlargest(length, sent_score, key=sent_score.get)\n",
    "summary = \" \".join(summary_sents)\n",
    "print(summary)"
   ]
  },
  {
   "cell_type": "markdown",
   "metadata": {},
   "source": [
    "the text that i entered was: \"Artificial intelligence (AI) is a branch of computer science that focuses on creating systems capable of performing tasks that typically require human intelligence. These tasks include problem-solving, learning, reasoning, and understanding natural language. AI technologies are used in a wide range of applications, from virtual personal assistants like Siri and Alexa to self-driving cars and advanced healthcare diagnostics.\n",
    "\n",
    "Machine learning is a subset of AI that involves developing algorithms and statistical models that allow computers to improve their performance on a specific task through learning from data. Deep learning, a subfield of machine learning, has gained significant attention in recent years due to its success in areas such as image and speech recognition.\n",
    "\n",
    "The future of AI holds great promise. As technology continues to advance, AI is expected to play a vital role in various industries, including healthcare, finance, and manufacturing. However, it also raises ethical and societal questions, particularly concerning job displacement and data privacy.\n",
    "\n",
    "In conclusion, artificial intelligence and machine learning are transformative technologies with the potential to revolutionize many aspects of our lives. While they offer numerous benefits, their responsible development and ethical use are essential to address the challenges they pose.\n",
    "\""
   ]
  },
  {
   "cell_type": "markdown",
   "metadata": {},
   "source": [
    "source:  https://thecleverprogrammer.com/2020/12/31/text-summarization-with-python/ "
   ]
  }
 ],
 "metadata": {
  "kernelspec": {
   "display_name": "ali-gpu",
   "language": "python",
   "name": "python3"
  },
  "language_info": {
   "codemirror_mode": {
    "name": "ipython",
    "version": 3
   },
   "file_extension": ".py",
   "mimetype": "text/x-python",
   "name": "python",
   "nbconvert_exporter": "python",
   "pygments_lexer": "ipython3",
   "version": "3.11.3"
  },
  "orig_nbformat": 4
 },
 "nbformat": 4,
 "nbformat_minor": 2
}
