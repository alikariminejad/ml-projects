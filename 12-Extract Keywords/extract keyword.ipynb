{
 "cells": [
  {
   "cell_type": "markdown",
   "metadata": {},
   "source": [
    "There are so many Python libraries for the task of extracting keywords, the best ones are spaCy, Rake-Nltk, YAKE. In this tutorial, I will use the Rake-NLTK as it is beginner-friendly and easy to install. You can easily install it by using the pip command; pip install rake-nltk."
   ]
  },
  {
   "cell_type": "markdown",
   "metadata": {},
   "source": [
    "RAKE stands for Rapid Automatic Keyword Extraction. It is only built to extract keywords by using the NLTK library in Python"
   ]
  },
  {
   "cell_type": "code",
   "execution_count": 1,
   "metadata": {},
   "outputs": [],
   "source": [
    "from rake_nltk import Rake\n",
    "rake_nltk_var = Rake()"
   ]
  },
  {
   "cell_type": "code",
   "execution_count": 2,
   "metadata": {},
   "outputs": [],
   "source": [
    "text = \"\"\"Climate change is a pressing global issue. The Earth's climate is undergoing significant shifts due to human activities, primarily the burning of fossil fuels and deforestation. These activities release greenhouse gases into the atmosphere, trapping heat and leading to rising global temperatures.\n",
    "\n",
    "The consequences of climate change are far-reaching. They include more frequent and severe weather events, such as hurricanes, droughts, and wildfires. Additionally, rising sea levels threaten coastal communities, and ecosystems are being disrupted, affecting biodiversity.\n",
    "\n",
    "To combat climate change, international efforts are crucial. The Paris Agreement, signed by many countries, aims to limit global warming to well below 2 degrees Celsius above pre-industrial levels. This involves reducing greenhouse gas emissions and transitioning to clean energy sources like solar and wind power.\n",
    "\n",
    "In conclusion, addressing climate change is imperative for the well-being of our planet and future generations. It requires a concerted effort to mitigate its effects and transition to a sustainable and environmentally responsible way of living.\n",
    "\"\"\""
   ]
  },
  {
   "cell_type": "code",
   "execution_count": 3,
   "metadata": {},
   "outputs": [
    {
     "name": "stdout",
     "output_type": "stream",
     "text": [
      "['rising sea levels threaten coastal communities', 'clean energy sources like solar', 'involves reducing greenhouse gas emissions', 'undergoing significant shifts due', 'activities release greenhouse gases', 'rising global temperatures', 'severe weather events', 'pressing global issue', 'limit global warming', 'environmentally responsible way', '2 degrees celsius', 'combat climate change', 'addressing climate change', 'industrial levels', 'human activities', 'climate change', 'climate change', 'wind power', 'trapping heat', 'paris agreement', 'many countries', 'international efforts', 'future generations', 'fossil fuels', 'concerted effort', 'affecting biodiversity', 'climate', 'wildfires', 'well', 'well', 'transitioning', 'transition', 'sustainable', 'signed', 'requires', 'reaching', 'primarily', 'pre', 'planet', 'mitigate', 'living', 'leading', 'include', 'imperative', 'hurricanes', 'frequent', 'far', 'effects', 'ecosystems', 'earth', 'droughts', 'disrupted', 'deforestation', 'crucial', 'consequences', 'conclusion', 'burning', 'atmosphere', 'aims', 'additionally']\n"
     ]
    }
   ],
   "source": [
    "rake_nltk_var.extract_keywords_from_text(text)\n",
    "keyword_extracted = rake_nltk_var.get_ranked_phrases()\n",
    "print(keyword_extracted)"
   ]
  },
  {
   "cell_type": "markdown",
   "metadata": {},
   "source": [
    "source:  https://thecleverprogrammer.com/2021/02/07/extract-keywords-using-python/"
   ]
  }
 ],
 "metadata": {
  "kernelspec": {
   "display_name": "ali-gpu",
   "language": "python",
   "name": "python3"
  },
  "language_info": {
   "codemirror_mode": {
    "name": "ipython",
    "version": 3
   },
   "file_extension": ".py",
   "mimetype": "text/x-python",
   "name": "python",
   "nbconvert_exporter": "python",
   "pygments_lexer": "ipython3",
   "version": "3.11.3"
  },
  "orig_nbformat": 4
 },
 "nbformat": 4,
 "nbformat_minor": 2
}
