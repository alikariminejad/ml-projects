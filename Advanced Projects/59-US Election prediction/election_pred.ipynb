{
 "cells": [
  {
   "cell_type": "markdown",
   "metadata": {},
   "source": [
    "Dataset:\n",
    "\n",
    "https://github.com/amankharwal/Website-data/blob/master/US%20Election%20using%20twitter%20sentiment.rar"
   ]
  },
  {
   "cell_type": "markdown",
   "metadata": {},
   "source": [
    "### Import libraries and dataset"
   ]
  },
  {
   "cell_type": "code",
   "execution_count": 1,
   "metadata": {},
   "outputs": [],
   "source": [
    "import pandas as pd\n",
    "import numpy as np\n",
    "import seaborn as sns\n",
    "import matplotlib.pyplot as plt\n",
    "import seaborn as sns\n",
    "from textblob import TextBlob\n",
    "from wordcloud import WordCloud\n",
    "import plotly.graph_objects as go\n",
    "import plotly.express as px\n",
    "\n",
    "trump_reviews = pd.read_csv(\"Trumpall2.csv\")\n",
    "biden_reviews = pd.read_csv(\"Bidenall2.csv\")"
   ]
  },
  {
   "cell_type": "markdown",
   "metadata": {},
   "source": [
    "### Quick look at datasets"
   ]
  },
  {
   "cell_type": "code",
   "execution_count": 2,
   "metadata": {},
   "outputs": [
    {
     "name": "stdout",
     "output_type": "stream",
     "text": [
      "              user                                               text\n",
      "0      manny_rosen   @sanofi please tell us how many shares the Cr...\n",
      "1        osi_abdul   https://t.co/atM98CpqF7  Like, comment, RT #P...\n",
      "2          Patsyrw   Your AG Barr is as useless &amp; corrupt as y...\n",
      "3  seyedebrahimi_m   Mr. Trump! Wake Up!  Most of the comments bel...\n",
      "4    James09254677   After 4 years you think you would have figure...\n",
      "           user                                               text\n",
      "0   MarkHodder3    @JoeBiden And we’ll find out who won in 2026...\n",
      "1    K87327961G  @JoeBiden Your Democratic Nazi Party cannot be...\n",
      "2      OldlaceA                        @JoeBiden So did Lying Barr\n",
      "3    penblogger  @JoeBiden It's clear you didnt compose this tw...\n",
      "4  Aquarian0264         @JoeBiden I will vote in person thank you.\n"
     ]
    }
   ],
   "source": [
    "print(trump_reviews.head())\n",
    "print(biden_reviews.head())"
   ]
  },
  {
   "cell_type": "markdown",
   "metadata": {},
   "source": [
    "### Sentiment Analysis"
   ]
  },
  {
   "cell_type": "code",
   "execution_count": 3,
   "metadata": {},
   "outputs": [
    {
     "name": "stdout",
     "output_type": "stream",
     "text": [
      "Trump : Sentiment(polarity=0.15, subjectivity=0.3125)\n",
      "Biden : Sentiment(polarity=0.6, subjectivity=0.9)\n"
     ]
    }
   ],
   "source": [
    "textblob1 = TextBlob(trump_reviews[\"text\"][10])\n",
    "print(\"Trump :\", textblob1.sentiment)\n",
    "textblob2 = TextBlob(biden_reviews[\"text\"][500])\n",
    "print(\"Biden :\", textblob2.sentiment)\n"
   ]
  },
  {
   "cell_type": "code",
   "execution_count": 4,
   "metadata": {},
   "outputs": [
    {
     "name": "stdout",
     "output_type": "stream",
     "text": [
      "                 user                                               text  \\\n",
      "2783          4diva63  @realDonaldTrump For the 1/100 time, absentee ...   \n",
      "2784         hidge826  @realDonaldTrump If you’re so scared of losing...   \n",
      "2785     SpencerRossy  @realDonaldTrump I rarely get involved with fo...   \n",
      "2786  ScoobyMcpherson  @realDonaldTrump This is the moment when Trump...   \n",
      "2787          bjklinz     @realDonaldTrump I’m sorry, Donald. No. #POTUS   \n",
      "\n",
      "      Sentiment Polarity  \n",
      "2783               0.000  \n",
      "2784               0.000  \n",
      "2785               0.225  \n",
      "2786               0.000  \n",
      "2787              -0.500  \n",
      "             user                                               text  \\\n",
      "2535    meryn1977  @JoeBiden You'll just try to calm those waters...   \n",
      "2536  BSNelson114  @JoeBiden 96 days 96 dias #VoteJoeBiden2020  #...   \n",
      "2537     KenCapel  @JoeBiden YOU THINK YOU CAN DO THAT??? YOU CAN...   \n",
      "2538   LeslyeHale  @JoeBiden Trump wants our children back at sch...   \n",
      "2539     rerickre  @JoeBiden ... and I know, because it’s much co...   \n",
      "\n",
      "      Sentiment Polarity  \n",
      "2535                0.15  \n",
      "2536                0.00  \n",
      "2537                0.00  \n",
      "2538                0.10  \n",
      "2539                0.20  \n"
     ]
    }
   ],
   "source": [
    "def find_pol(review):\n",
    "    return TextBlob(review).sentiment.polarity\n",
    "trump_reviews[\"Sentiment Polarity\"] = trump_reviews[\"text\"].apply(find_pol)\n",
    "print(trump_reviews.tail())\n",
    "\n",
    "biden_reviews[\"Sentiment Polarity\"] = biden_reviews[\"text\"].apply(find_pol)\n",
    "print(biden_reviews.tail())"
   ]
  },
  {
   "cell_type": "markdown",
   "metadata": {},
   "source": [
    "Polarity ranges from -1 to +1(negative to positive) and tells whether the text has negative sentiments or positive sentiments. Polarity tells about factual information."
   ]
  },
  {
   "cell_type": "markdown",
   "metadata": {},
   "source": [
    "### Sentiment Polarity on Both the candidates:"
   ]
  },
  {
   "cell_type": "code",
   "execution_count": 6,
   "metadata": {},
   "outputs": [
    {
     "name": "stdout",
     "output_type": "stream",
     "text": [
      "                 user                                               text  \\\n",
      "2783          4diva63  @realDonaldTrump For the 1/100 time, absentee ...   \n",
      "2784         hidge826  @realDonaldTrump If you’re so scared of losing...   \n",
      "2785     SpencerRossy  @realDonaldTrump I rarely get involved with fo...   \n",
      "2786  ScoobyMcpherson  @realDonaldTrump This is the moment when Trump...   \n",
      "2787          bjklinz     @realDonaldTrump I’m sorry, Donald. No. #POTUS   \n",
      "\n",
      "      Sentiment Polarity Expression Label  \n",
      "2783               0.000          Neutral  \n",
      "2784               0.000          Neutral  \n",
      "2785               0.225         positive  \n",
      "2786               0.000          Neutral  \n",
      "2787              -0.500         negative  \n",
      "             user                                               text  \\\n",
      "2535    meryn1977  @JoeBiden You'll just try to calm those waters...   \n",
      "2536  BSNelson114  @JoeBiden 96 days 96 dias #VoteJoeBiden2020  #...   \n",
      "2537     KenCapel  @JoeBiden YOU THINK YOU CAN DO THAT??? YOU CAN...   \n",
      "2538   LeslyeHale  @JoeBiden Trump wants our children back at sch...   \n",
      "2539     rerickre  @JoeBiden ... and I know, because it’s much co...   \n",
      "\n",
      "      Sentiment Polarity Expression Label  \n",
      "2535                0.15          Neutral  \n",
      "2536                0.00          Neutral  \n",
      "2537                0.00         negative  \n",
      "2538                0.10          Neutral  \n",
      "2539                0.20         positive  \n"
     ]
    },
    {
     "name": "stderr",
     "output_type": "stream",
     "text": [
      "/tmp/ipykernel_22150/168499711.py:2: SettingWithCopyWarning: \n",
      "A value is trying to be set on a copy of a slice from a DataFrame\n",
      "\n",
      "See the caveats in the documentation: https://pandas.pydata.org/pandas-docs/stable/user_guide/indexing.html#returning-a-view-versus-a-copy\n",
      "  trump_reviews[\"Expression Label\"][trump_reviews[\"Sentiment Polarity\"]==0]=\"Neutral\"\n",
      "/tmp/ipykernel_22150/168499711.py:6: SettingWithCopyWarning: \n",
      "A value is trying to be set on a copy of a slice from a DataFrame\n",
      "\n",
      "See the caveats in the documentation: https://pandas.pydata.org/pandas-docs/stable/user_guide/indexing.html#returning-a-view-versus-a-copy\n",
      "  biden_reviews[\"Expression Label\"][trump_reviews[\"Sentiment Polarity\"]==0]=\"Neutral\"\n"
     ]
    }
   ],
   "source": [
    "trump_reviews[\"Expression Label\"] = np.where(trump_reviews[\"Sentiment Polarity\"]>0, \"positive\", \"negative\")\n",
    "trump_reviews[\"Expression Label\"][trump_reviews[\"Sentiment Polarity\"]==0]=\"Neutral\"\n",
    "print(trump_reviews.tail())\n",
    "\n",
    "biden_reviews[\"Expression Label\"] = np.where(biden_reviews[\"Sentiment Polarity\"]>0, \"positive\", \"negative\")\n",
    "biden_reviews[\"Expression Label\"][trump_reviews[\"Sentiment Polarity\"]==0]=\"Neutral\"\n",
    "print(biden_reviews.tail())"
   ]
  },
  {
   "cell_type": "markdown",
   "metadata": {},
   "source": [
    "Now I will drop all the tweets with neutral polarity from both the datasets to balance the data equally. I will also perform some data cleaning operations so that at the can we can easily predict the US Elections:"
   ]
  },
  {
   "cell_type": "code",
   "execution_count": 7,
   "metadata": {},
   "outputs": [
    {
     "name": "stdout",
     "output_type": "stream",
     "text": [
      "(1464, 4)\n",
      "(1324, 4)\n",
      "(1509, 4)\n",
      "(1031, 4)\n"
     ]
    }
   ],
   "source": [
    "reviews1 = trump_reviews[trump_reviews['Sentiment Polarity'] == 0.0000]\n",
    "print(reviews1.shape)\n",
    "\n",
    "cond1=trump_reviews['Sentiment Polarity'].isin(reviews1['Sentiment Polarity'])\n",
    "trump_reviews.drop(trump_reviews[cond1].index, inplace=True)\n",
    "print(trump_reviews.shape)\n",
    "\n",
    "reviews2 = biden_reviews[biden_reviews['Sentiment Polarity'] == 0.0000]\n",
    "print(reviews2.shape)\n",
    "\n",
    "cond2=biden_reviews['Sentiment Polarity'].isin(reviews1['Sentiment Polarity'])\n",
    "biden_reviews.drop(biden_reviews[cond2].index, inplace=True)\n",
    "print(biden_reviews.shape)"
   ]
  },
  {
   "cell_type": "markdown",
   "metadata": {},
   "source": [
    "Now, before moving forward we need to balance both the datasets:\n",
    "\n"
   ]
  },
  {
   "cell_type": "code",
   "execution_count": 8,
   "metadata": {},
   "outputs": [
    {
     "name": "stdout",
     "output_type": "stream",
     "text": [
      "(1000, 4)\n",
      "(1000, 4)\n"
     ]
    }
   ],
   "source": [
    "# Donald Trump\n",
    "np.random.seed(10)\n",
    "remove_n = 324\n",
    "drop_indices = np.random.choice(trump_reviews.index, remove_n, replace=False)\n",
    "df_subset_trump = trump_reviews.drop(drop_indices)\n",
    "print(df_subset_trump.shape)\n",
    "# Joe Biden\n",
    "np.random.seed(10)\n",
    "remove_n = 31\n",
    "drop_indices = np.random.choice(biden_reviews.index, remove_n, replace=False)\n",
    "df_subset_biden = biden_reviews.drop(drop_indices)\n",
    "print(df_subset_biden.shape)"
   ]
  },
  {
   "cell_type": "markdown",
   "metadata": {},
   "source": [
    "Now let’s analyze the data to predict the US Elections, by analyzing the number of positive and negative sentiments in both the accounts:"
   ]
  },
  {
   "cell_type": "code",
   "execution_count": 9,
   "metadata": {},
   "outputs": [
    {
     "name": "stdout",
     "output_type": "stream",
     "text": [
      "                  user  text  Sentiment Polarity\n",
      "Expression Label                                \n",
      "negative           449   449                 449\n",
      "positive           551   551                 551\n",
      "                  user  text  Sentiment Polarity\n",
      "Expression Label                                \n",
      "Neutral            524   524                 524\n",
      "negative           181   181                 181\n",
      "positive           295   295                 295\n"
     ]
    },
    {
     "name": "stderr",
     "output_type": "stream",
     "text": [
      "/tmp/ipykernel_22150/61050271.py:4: FutureWarning: Series.__getitem__ treating keys as positions is deprecated. In a future version, integer keys will always be treated as labels (consistent with DataFrame behavior). To access a value by position, use `ser.iloc[pos]`\n",
      "  negative_per1 = (count_1['Sentiment Polarity'][0]/1000)*100\n",
      "/tmp/ipykernel_22150/61050271.py:5: FutureWarning: Series.__getitem__ treating keys as positions is deprecated. In a future version, integer keys will always be treated as labels (consistent with DataFrame behavior). To access a value by position, use `ser.iloc[pos]`\n",
      "  positive_per1 = (count_1['Sentiment Polarity'][1]/1000)*100\n",
      "/tmp/ipykernel_22150/61050271.py:10: FutureWarning: Series.__getitem__ treating keys as positions is deprecated. In a future version, integer keys will always be treated as labels (consistent with DataFrame behavior). To access a value by position, use `ser.iloc[pos]`\n",
      "  negative_per2 = (count_2['Sentiment Polarity'][0]/1000)*100\n",
      "/tmp/ipykernel_22150/61050271.py:11: FutureWarning: Series.__getitem__ treating keys as positions is deprecated. In a future version, integer keys will always be treated as labels (consistent with DataFrame behavior). To access a value by position, use `ser.iloc[pos]`\n",
      "  positive_per2 = (count_2['Sentiment Polarity'][1]/1000)*100\n"
     ]
    },
    {
     "data": {
      "application/vnd.plotly.v1+json": {
       "config": {
        "plotlyServerURL": "https://plot.ly"
       },
       "data": [
        {
         "name": "Positive",
         "type": "bar",
         "x": [
          "Joe Biden",
          "Donald Trump"
         ],
         "y": [
          55.1,
          18.099999999999998
         ]
        },
        {
         "name": "Negative",
         "type": "bar",
         "x": [
          "Joe Biden",
          "Donald Trump"
         ],
         "y": [
          44.9,
          52.400000000000006
         ]
        }
       ],
       "layout": {
        "barmode": "group",
        "template": {
         "data": {
          "bar": [
           {
            "error_x": {
             "color": "#2a3f5f"
            },
            "error_y": {
             "color": "#2a3f5f"
            },
            "marker": {
             "line": {
              "color": "#E5ECF6",
              "width": 0.5
             },
             "pattern": {
              "fillmode": "overlay",
              "size": 10,
              "solidity": 0.2
             }
            },
            "type": "bar"
           }
          ],
          "barpolar": [
           {
            "marker": {
             "line": {
              "color": "#E5ECF6",
              "width": 0.5
             },
             "pattern": {
              "fillmode": "overlay",
              "size": 10,
              "solidity": 0.2
             }
            },
            "type": "barpolar"
           }
          ],
          "carpet": [
           {
            "aaxis": {
             "endlinecolor": "#2a3f5f",
             "gridcolor": "white",
             "linecolor": "white",
             "minorgridcolor": "white",
             "startlinecolor": "#2a3f5f"
            },
            "baxis": {
             "endlinecolor": "#2a3f5f",
             "gridcolor": "white",
             "linecolor": "white",
             "minorgridcolor": "white",
             "startlinecolor": "#2a3f5f"
            },
            "type": "carpet"
           }
          ],
          "choropleth": [
           {
            "colorbar": {
             "outlinewidth": 0,
             "ticks": ""
            },
            "type": "choropleth"
           }
          ],
          "contour": [
           {
            "colorbar": {
             "outlinewidth": 0,
             "ticks": ""
            },
            "colorscale": [
             [
              0,
              "#0d0887"
             ],
             [
              0.1111111111111111,
              "#46039f"
             ],
             [
              0.2222222222222222,
              "#7201a8"
             ],
             [
              0.3333333333333333,
              "#9c179e"
             ],
             [
              0.4444444444444444,
              "#bd3786"
             ],
             [
              0.5555555555555556,
              "#d8576b"
             ],
             [
              0.6666666666666666,
              "#ed7953"
             ],
             [
              0.7777777777777778,
              "#fb9f3a"
             ],
             [
              0.8888888888888888,
              "#fdca26"
             ],
             [
              1,
              "#f0f921"
             ]
            ],
            "type": "contour"
           }
          ],
          "contourcarpet": [
           {
            "colorbar": {
             "outlinewidth": 0,
             "ticks": ""
            },
            "type": "contourcarpet"
           }
          ],
          "heatmap": [
           {
            "colorbar": {
             "outlinewidth": 0,
             "ticks": ""
            },
            "colorscale": [
             [
              0,
              "#0d0887"
             ],
             [
              0.1111111111111111,
              "#46039f"
             ],
             [
              0.2222222222222222,
              "#7201a8"
             ],
             [
              0.3333333333333333,
              "#9c179e"
             ],
             [
              0.4444444444444444,
              "#bd3786"
             ],
             [
              0.5555555555555556,
              "#d8576b"
             ],
             [
              0.6666666666666666,
              "#ed7953"
             ],
             [
              0.7777777777777778,
              "#fb9f3a"
             ],
             [
              0.8888888888888888,
              "#fdca26"
             ],
             [
              1,
              "#f0f921"
             ]
            ],
            "type": "heatmap"
           }
          ],
          "heatmapgl": [
           {
            "colorbar": {
             "outlinewidth": 0,
             "ticks": ""
            },
            "colorscale": [
             [
              0,
              "#0d0887"
             ],
             [
              0.1111111111111111,
              "#46039f"
             ],
             [
              0.2222222222222222,
              "#7201a8"
             ],
             [
              0.3333333333333333,
              "#9c179e"
             ],
             [
              0.4444444444444444,
              "#bd3786"
             ],
             [
              0.5555555555555556,
              "#d8576b"
             ],
             [
              0.6666666666666666,
              "#ed7953"
             ],
             [
              0.7777777777777778,
              "#fb9f3a"
             ],
             [
              0.8888888888888888,
              "#fdca26"
             ],
             [
              1,
              "#f0f921"
             ]
            ],
            "type": "heatmapgl"
           }
          ],
          "histogram": [
           {
            "marker": {
             "pattern": {
              "fillmode": "overlay",
              "size": 10,
              "solidity": 0.2
             }
            },
            "type": "histogram"
           }
          ],
          "histogram2d": [
           {
            "colorbar": {
             "outlinewidth": 0,
             "ticks": ""
            },
            "colorscale": [
             [
              0,
              "#0d0887"
             ],
             [
              0.1111111111111111,
              "#46039f"
             ],
             [
              0.2222222222222222,
              "#7201a8"
             ],
             [
              0.3333333333333333,
              "#9c179e"
             ],
             [
              0.4444444444444444,
              "#bd3786"
             ],
             [
              0.5555555555555556,
              "#d8576b"
             ],
             [
              0.6666666666666666,
              "#ed7953"
             ],
             [
              0.7777777777777778,
              "#fb9f3a"
             ],
             [
              0.8888888888888888,
              "#fdca26"
             ],
             [
              1,
              "#f0f921"
             ]
            ],
            "type": "histogram2d"
           }
          ],
          "histogram2dcontour": [
           {
            "colorbar": {
             "outlinewidth": 0,
             "ticks": ""
            },
            "colorscale": [
             [
              0,
              "#0d0887"
             ],
             [
              0.1111111111111111,
              "#46039f"
             ],
             [
              0.2222222222222222,
              "#7201a8"
             ],
             [
              0.3333333333333333,
              "#9c179e"
             ],
             [
              0.4444444444444444,
              "#bd3786"
             ],
             [
              0.5555555555555556,
              "#d8576b"
             ],
             [
              0.6666666666666666,
              "#ed7953"
             ],
             [
              0.7777777777777778,
              "#fb9f3a"
             ],
             [
              0.8888888888888888,
              "#fdca26"
             ],
             [
              1,
              "#f0f921"
             ]
            ],
            "type": "histogram2dcontour"
           }
          ],
          "mesh3d": [
           {
            "colorbar": {
             "outlinewidth": 0,
             "ticks": ""
            },
            "type": "mesh3d"
           }
          ],
          "parcoords": [
           {
            "line": {
             "colorbar": {
              "outlinewidth": 0,
              "ticks": ""
             }
            },
            "type": "parcoords"
           }
          ],
          "pie": [
           {
            "automargin": true,
            "type": "pie"
           }
          ],
          "scatter": [
           {
            "fillpattern": {
             "fillmode": "overlay",
             "size": 10,
             "solidity": 0.2
            },
            "type": "scatter"
           }
          ],
          "scatter3d": [
           {
            "line": {
             "colorbar": {
              "outlinewidth": 0,
              "ticks": ""
             }
            },
            "marker": {
             "colorbar": {
              "outlinewidth": 0,
              "ticks": ""
             }
            },
            "type": "scatter3d"
           }
          ],
          "scattercarpet": [
           {
            "marker": {
             "colorbar": {
              "outlinewidth": 0,
              "ticks": ""
             }
            },
            "type": "scattercarpet"
           }
          ],
          "scattergeo": [
           {
            "marker": {
             "colorbar": {
              "outlinewidth": 0,
              "ticks": ""
             }
            },
            "type": "scattergeo"
           }
          ],
          "scattergl": [
           {
            "marker": {
             "colorbar": {
              "outlinewidth": 0,
              "ticks": ""
             }
            },
            "type": "scattergl"
           }
          ],
          "scattermapbox": [
           {
            "marker": {
             "colorbar": {
              "outlinewidth": 0,
              "ticks": ""
             }
            },
            "type": "scattermapbox"
           }
          ],
          "scatterpolar": [
           {
            "marker": {
             "colorbar": {
              "outlinewidth": 0,
              "ticks": ""
             }
            },
            "type": "scatterpolar"
           }
          ],
          "scatterpolargl": [
           {
            "marker": {
             "colorbar": {
              "outlinewidth": 0,
              "ticks": ""
             }
            },
            "type": "scatterpolargl"
           }
          ],
          "scatterternary": [
           {
            "marker": {
             "colorbar": {
              "outlinewidth": 0,
              "ticks": ""
             }
            },
            "type": "scatterternary"
           }
          ],
          "surface": [
           {
            "colorbar": {
             "outlinewidth": 0,
             "ticks": ""
            },
            "colorscale": [
             [
              0,
              "#0d0887"
             ],
             [
              0.1111111111111111,
              "#46039f"
             ],
             [
              0.2222222222222222,
              "#7201a8"
             ],
             [
              0.3333333333333333,
              "#9c179e"
             ],
             [
              0.4444444444444444,
              "#bd3786"
             ],
             [
              0.5555555555555556,
              "#d8576b"
             ],
             [
              0.6666666666666666,
              "#ed7953"
             ],
             [
              0.7777777777777778,
              "#fb9f3a"
             ],
             [
              0.8888888888888888,
              "#fdca26"
             ],
             [
              1,
              "#f0f921"
             ]
            ],
            "type": "surface"
           }
          ],
          "table": [
           {
            "cells": {
             "fill": {
              "color": "#EBF0F8"
             },
             "line": {
              "color": "white"
             }
            },
            "header": {
             "fill": {
              "color": "#C8D4E3"
             },
             "line": {
              "color": "white"
             }
            },
            "type": "table"
           }
          ]
         },
         "layout": {
          "annotationdefaults": {
           "arrowcolor": "#2a3f5f",
           "arrowhead": 0,
           "arrowwidth": 1
          },
          "autotypenumbers": "strict",
          "coloraxis": {
           "colorbar": {
            "outlinewidth": 0,
            "ticks": ""
           }
          },
          "colorscale": {
           "diverging": [
            [
             0,
             "#8e0152"
            ],
            [
             0.1,
             "#c51b7d"
            ],
            [
             0.2,
             "#de77ae"
            ],
            [
             0.3,
             "#f1b6da"
            ],
            [
             0.4,
             "#fde0ef"
            ],
            [
             0.5,
             "#f7f7f7"
            ],
            [
             0.6,
             "#e6f5d0"
            ],
            [
             0.7,
             "#b8e186"
            ],
            [
             0.8,
             "#7fbc41"
            ],
            [
             0.9,
             "#4d9221"
            ],
            [
             1,
             "#276419"
            ]
           ],
           "sequential": [
            [
             0,
             "#0d0887"
            ],
            [
             0.1111111111111111,
             "#46039f"
            ],
            [
             0.2222222222222222,
             "#7201a8"
            ],
            [
             0.3333333333333333,
             "#9c179e"
            ],
            [
             0.4444444444444444,
             "#bd3786"
            ],
            [
             0.5555555555555556,
             "#d8576b"
            ],
            [
             0.6666666666666666,
             "#ed7953"
            ],
            [
             0.7777777777777778,
             "#fb9f3a"
            ],
            [
             0.8888888888888888,
             "#fdca26"
            ],
            [
             1,
             "#f0f921"
            ]
           ],
           "sequentialminus": [
            [
             0,
             "#0d0887"
            ],
            [
             0.1111111111111111,
             "#46039f"
            ],
            [
             0.2222222222222222,
             "#7201a8"
            ],
            [
             0.3333333333333333,
             "#9c179e"
            ],
            [
             0.4444444444444444,
             "#bd3786"
            ],
            [
             0.5555555555555556,
             "#d8576b"
            ],
            [
             0.6666666666666666,
             "#ed7953"
            ],
            [
             0.7777777777777778,
             "#fb9f3a"
            ],
            [
             0.8888888888888888,
             "#fdca26"
            ],
            [
             1,
             "#f0f921"
            ]
           ]
          },
          "colorway": [
           "#636efa",
           "#EF553B",
           "#00cc96",
           "#ab63fa",
           "#FFA15A",
           "#19d3f3",
           "#FF6692",
           "#B6E880",
           "#FF97FF",
           "#FECB52"
          ],
          "font": {
           "color": "#2a3f5f"
          },
          "geo": {
           "bgcolor": "white",
           "lakecolor": "white",
           "landcolor": "#E5ECF6",
           "showlakes": true,
           "showland": true,
           "subunitcolor": "white"
          },
          "hoverlabel": {
           "align": "left"
          },
          "hovermode": "closest",
          "mapbox": {
           "style": "light"
          },
          "paper_bgcolor": "white",
          "plot_bgcolor": "#E5ECF6",
          "polar": {
           "angularaxis": {
            "gridcolor": "white",
            "linecolor": "white",
            "ticks": ""
           },
           "bgcolor": "#E5ECF6",
           "radialaxis": {
            "gridcolor": "white",
            "linecolor": "white",
            "ticks": ""
           }
          },
          "scene": {
           "xaxis": {
            "backgroundcolor": "#E5ECF6",
            "gridcolor": "white",
            "gridwidth": 2,
            "linecolor": "white",
            "showbackground": true,
            "ticks": "",
            "zerolinecolor": "white"
           },
           "yaxis": {
            "backgroundcolor": "#E5ECF6",
            "gridcolor": "white",
            "gridwidth": 2,
            "linecolor": "white",
            "showbackground": true,
            "ticks": "",
            "zerolinecolor": "white"
           },
           "zaxis": {
            "backgroundcolor": "#E5ECF6",
            "gridcolor": "white",
            "gridwidth": 2,
            "linecolor": "white",
            "showbackground": true,
            "ticks": "",
            "zerolinecolor": "white"
           }
          },
          "shapedefaults": {
           "line": {
            "color": "#2a3f5f"
           }
          },
          "ternary": {
           "aaxis": {
            "gridcolor": "white",
            "linecolor": "white",
            "ticks": ""
           },
           "baxis": {
            "gridcolor": "white",
            "linecolor": "white",
            "ticks": ""
           },
           "bgcolor": "#E5ECF6",
           "caxis": {
            "gridcolor": "white",
            "linecolor": "white",
            "ticks": ""
           }
          },
          "title": {
           "x": 0.05
          },
          "xaxis": {
           "automargin": true,
           "gridcolor": "white",
           "linecolor": "white",
           "ticks": "",
           "title": {
            "standoff": 15
           },
           "zerolinecolor": "white",
           "zerolinewidth": 2
          },
          "yaxis": {
           "automargin": true,
           "gridcolor": "white",
           "linecolor": "white",
           "ticks": "",
           "title": {
            "standoff": 15
           },
           "zerolinecolor": "white",
           "zerolinewidth": 2
          }
         }
        }
       }
      }
     },
     "metadata": {},
     "output_type": "display_data"
    }
   ],
   "source": [
    "count_1 = df_subset_trump.groupby('Expression Label').count()\n",
    "print(count_1)\n",
    "\n",
    "negative_per1 = (count_1['Sentiment Polarity'][0]/1000)*100\n",
    "positive_per1 = (count_1['Sentiment Polarity'][1]/1000)*100\n",
    "\n",
    "count_2 = df_subset_biden.groupby('Expression Label').count()\n",
    "print(count_2)\n",
    "\n",
    "negative_per2 = (count_2['Sentiment Polarity'][0]/1000)*100\n",
    "positive_per2 = (count_2['Sentiment Polarity'][1]/1000)*100\n",
    "\n",
    "Politicians = ['Joe Biden', 'Donald Trump']\n",
    "lis_pos = [positive_per1, positive_per2]\n",
    "lis_neg = [negative_per1, negative_per2]\n",
    "\n",
    "fig = go.Figure(data=[\n",
    "    go.Bar(name='Positive', x=Politicians, y=lis_pos),\n",
    "    go.Bar(name='Negative', x=Politicians, y=lis_neg)\n",
    "])\n",
    "# Change the bar mode\n",
    "fig.update_layout(barmode='group')\n",
    "fig.show()"
   ]
  },
  {
   "cell_type": "markdown",
   "metadata": {},
   "source": [
    "From the above figure, it is very clear that Joe Biden is getting more Positive tweets and less negative tweets as compared to Donald Trump. So it will not be wrong to conclude that Joe Bined is more prefered by the people to win the US Presidential Elections than Donald Trump."
   ]
  },
  {
   "cell_type": "markdown",
   "metadata": {},
   "source": [
    "Source:\n",
    "\n",
    "https://thecleverprogrammer.com/2020/10/01/predict-us-elections-with-python/"
   ]
  }
 ],
 "metadata": {
  "kernelspec": {
   "display_name": "dl",
   "language": "python",
   "name": "python3"
  },
  "language_info": {
   "codemirror_mode": {
    "name": "ipython",
    "version": 3
   },
   "file_extension": ".py",
   "mimetype": "text/x-python",
   "name": "python",
   "nbconvert_exporter": "python",
   "pygments_lexer": "ipython3",
   "version": "3.11.5"
  }
 },
 "nbformat": 4,
 "nbformat_minor": 2
}
