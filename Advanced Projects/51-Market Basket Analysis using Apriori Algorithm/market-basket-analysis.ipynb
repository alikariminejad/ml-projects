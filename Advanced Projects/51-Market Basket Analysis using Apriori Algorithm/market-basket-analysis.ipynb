{
 "cells": [
  {
   "cell_type": "markdown",
   "metadata": {},
   "source": [
    "Dataset:\n",
    "\n",
    "https://github.com/amankharwal/Website-data/blob/master/Groceries_dataset.csv"
   ]
  },
  {
   "cell_type": "markdown",
   "metadata": {},
   "source": [
    "### Import libraries"
   ]
  },
  {
   "cell_type": "code",
   "execution_count": 1,
   "metadata": {},
   "outputs": [],
   "source": [
    "import numpy as np\n",
    "import pandas as pd\n",
    "import plotly.express as px\n",
    "import apyori\n",
    "from apyori import apriori"
   ]
  },
  {
   "cell_type": "markdown",
   "metadata": {},
   "source": [
    "load the dataset"
   ]
  },
  {
   "cell_type": "code",
   "execution_count": 2,
   "metadata": {},
   "outputs": [
    {
     "data": {
      "text/html": [
       "<div>\n",
       "<style scoped>\n",
       "    .dataframe tbody tr th:only-of-type {\n",
       "        vertical-align: middle;\n",
       "    }\n",
       "\n",
       "    .dataframe tbody tr th {\n",
       "        vertical-align: top;\n",
       "    }\n",
       "\n",
       "    .dataframe thead th {\n",
       "        text-align: right;\n",
       "    }\n",
       "</style>\n",
       "<table border=\"1\" class=\"dataframe\">\n",
       "  <thead>\n",
       "    <tr style=\"text-align: right;\">\n",
       "      <th></th>\n",
       "      <th>Member_number</th>\n",
       "      <th>Date</th>\n",
       "      <th>itemDescription</th>\n",
       "    </tr>\n",
       "  </thead>\n",
       "  <tbody>\n",
       "    <tr>\n",
       "      <th>0</th>\n",
       "      <td>1808</td>\n",
       "      <td>21-07-2015</td>\n",
       "      <td>tropical fruit</td>\n",
       "    </tr>\n",
       "    <tr>\n",
       "      <th>1</th>\n",
       "      <td>2552</td>\n",
       "      <td>05-01-2015</td>\n",
       "      <td>whole milk</td>\n",
       "    </tr>\n",
       "    <tr>\n",
       "      <th>2</th>\n",
       "      <td>2300</td>\n",
       "      <td>19-09-2015</td>\n",
       "      <td>pip fruit</td>\n",
       "    </tr>\n",
       "    <tr>\n",
       "      <th>3</th>\n",
       "      <td>1187</td>\n",
       "      <td>12-12-2015</td>\n",
       "      <td>other vegetables</td>\n",
       "    </tr>\n",
       "    <tr>\n",
       "      <th>4</th>\n",
       "      <td>3037</td>\n",
       "      <td>01-02-2015</td>\n",
       "      <td>whole milk</td>\n",
       "    </tr>\n",
       "  </tbody>\n",
       "</table>\n",
       "</div>"
      ],
      "text/plain": [
       "   Member_number        Date   itemDescription\n",
       "0           1808  21-07-2015    tropical fruit\n",
       "1           2552  05-01-2015        whole milk\n",
       "2           2300  19-09-2015         pip fruit\n",
       "3           1187  12-12-2015  other vegetables\n",
       "4           3037  01-02-2015        whole milk"
      ]
     },
     "execution_count": 2,
     "metadata": {},
     "output_type": "execute_result"
    }
   ],
   "source": [
    "data = pd.read_csv(\"Groceries_dataset.csv\")\n",
    "data.head()"
   ]
  },
  {
   "cell_type": "markdown",
   "metadata": {},
   "source": [
    "### Data Exploration\n",
    "\n",
    "Let’s first have a look at the top 10 most selling products:"
   ]
  },
  {
   "cell_type": "code",
   "execution_count": 3,
   "metadata": {},
   "outputs": [
    {
     "name": "stdout",
     "output_type": "stream",
     "text": [
      "Top 10 frequently sold products(Tabular Representation)\n"
     ]
    },
    {
     "data": {
      "application/vnd.plotly.v1+json": {
       "config": {
        "plotlyServerURL": "https://plot.ly"
       },
       "data": [
        {
         "alignmentgroup": "True",
         "hovertemplate": "x=%{x}<br>y=%{y}<extra></extra>",
         "legendgroup": "",
         "marker": {
          "color": "#636efa",
          "pattern": {
           "shape": ""
          }
         },
         "name": "",
         "offsetgroup": "",
         "orientation": "v",
         "showlegend": false,
         "textposition": "auto",
         "type": "bar",
         "x": [
          "whole milk",
          "other vegetables",
          "rolls/buns",
          "soda",
          "yogurt",
          "root vegetables",
          "tropical fruit",
          "bottled water",
          "sausage",
          "citrus fruit"
         ],
         "xaxis": "x",
         "y": [
          2502,
          1898,
          1716,
          1514,
          1334,
          1071,
          1032,
          933,
          924,
          812
         ],
         "yaxis": "y"
        }
       ],
       "layout": {
        "barmode": "relative",
        "legend": {
         "tracegroupgap": 0
        },
        "margin": {
         "t": 60
        },
        "template": {
         "data": {
          "bar": [
           {
            "error_x": {
             "color": "#2a3f5f"
            },
            "error_y": {
             "color": "#2a3f5f"
            },
            "marker": {
             "line": {
              "color": "#E5ECF6",
              "width": 0.5
             },
             "pattern": {
              "fillmode": "overlay",
              "size": 10,
              "solidity": 0.2
             }
            },
            "type": "bar"
           }
          ],
          "barpolar": [
           {
            "marker": {
             "line": {
              "color": "#E5ECF6",
              "width": 0.5
             },
             "pattern": {
              "fillmode": "overlay",
              "size": 10,
              "solidity": 0.2
             }
            },
            "type": "barpolar"
           }
          ],
          "carpet": [
           {
            "aaxis": {
             "endlinecolor": "#2a3f5f",
             "gridcolor": "white",
             "linecolor": "white",
             "minorgridcolor": "white",
             "startlinecolor": "#2a3f5f"
            },
            "baxis": {
             "endlinecolor": "#2a3f5f",
             "gridcolor": "white",
             "linecolor": "white",
             "minorgridcolor": "white",
             "startlinecolor": "#2a3f5f"
            },
            "type": "carpet"
           }
          ],
          "choropleth": [
           {
            "colorbar": {
             "outlinewidth": 0,
             "ticks": ""
            },
            "type": "choropleth"
           }
          ],
          "contour": [
           {
            "colorbar": {
             "outlinewidth": 0,
             "ticks": ""
            },
            "colorscale": [
             [
              0,
              "#0d0887"
             ],
             [
              0.1111111111111111,
              "#46039f"
             ],
             [
              0.2222222222222222,
              "#7201a8"
             ],
             [
              0.3333333333333333,
              "#9c179e"
             ],
             [
              0.4444444444444444,
              "#bd3786"
             ],
             [
              0.5555555555555556,
              "#d8576b"
             ],
             [
              0.6666666666666666,
              "#ed7953"
             ],
             [
              0.7777777777777778,
              "#fb9f3a"
             ],
             [
              0.8888888888888888,
              "#fdca26"
             ],
             [
              1,
              "#f0f921"
             ]
            ],
            "type": "contour"
           }
          ],
          "contourcarpet": [
           {
            "colorbar": {
             "outlinewidth": 0,
             "ticks": ""
            },
            "type": "contourcarpet"
           }
          ],
          "heatmap": [
           {
            "colorbar": {
             "outlinewidth": 0,
             "ticks": ""
            },
            "colorscale": [
             [
              0,
              "#0d0887"
             ],
             [
              0.1111111111111111,
              "#46039f"
             ],
             [
              0.2222222222222222,
              "#7201a8"
             ],
             [
              0.3333333333333333,
              "#9c179e"
             ],
             [
              0.4444444444444444,
              "#bd3786"
             ],
             [
              0.5555555555555556,
              "#d8576b"
             ],
             [
              0.6666666666666666,
              "#ed7953"
             ],
             [
              0.7777777777777778,
              "#fb9f3a"
             ],
             [
              0.8888888888888888,
              "#fdca26"
             ],
             [
              1,
              "#f0f921"
             ]
            ],
            "type": "heatmap"
           }
          ],
          "heatmapgl": [
           {
            "colorbar": {
             "outlinewidth": 0,
             "ticks": ""
            },
            "colorscale": [
             [
              0,
              "#0d0887"
             ],
             [
              0.1111111111111111,
              "#46039f"
             ],
             [
              0.2222222222222222,
              "#7201a8"
             ],
             [
              0.3333333333333333,
              "#9c179e"
             ],
             [
              0.4444444444444444,
              "#bd3786"
             ],
             [
              0.5555555555555556,
              "#d8576b"
             ],
             [
              0.6666666666666666,
              "#ed7953"
             ],
             [
              0.7777777777777778,
              "#fb9f3a"
             ],
             [
              0.8888888888888888,
              "#fdca26"
             ],
             [
              1,
              "#f0f921"
             ]
            ],
            "type": "heatmapgl"
           }
          ],
          "histogram": [
           {
            "marker": {
             "pattern": {
              "fillmode": "overlay",
              "size": 10,
              "solidity": 0.2
             }
            },
            "type": "histogram"
           }
          ],
          "histogram2d": [
           {
            "colorbar": {
             "outlinewidth": 0,
             "ticks": ""
            },
            "colorscale": [
             [
              0,
              "#0d0887"
             ],
             [
              0.1111111111111111,
              "#46039f"
             ],
             [
              0.2222222222222222,
              "#7201a8"
             ],
             [
              0.3333333333333333,
              "#9c179e"
             ],
             [
              0.4444444444444444,
              "#bd3786"
             ],
             [
              0.5555555555555556,
              "#d8576b"
             ],
             [
              0.6666666666666666,
              "#ed7953"
             ],
             [
              0.7777777777777778,
              "#fb9f3a"
             ],
             [
              0.8888888888888888,
              "#fdca26"
             ],
             [
              1,
              "#f0f921"
             ]
            ],
            "type": "histogram2d"
           }
          ],
          "histogram2dcontour": [
           {
            "colorbar": {
             "outlinewidth": 0,
             "ticks": ""
            },
            "colorscale": [
             [
              0,
              "#0d0887"
             ],
             [
              0.1111111111111111,
              "#46039f"
             ],
             [
              0.2222222222222222,
              "#7201a8"
             ],
             [
              0.3333333333333333,
              "#9c179e"
             ],
             [
              0.4444444444444444,
              "#bd3786"
             ],
             [
              0.5555555555555556,
              "#d8576b"
             ],
             [
              0.6666666666666666,
              "#ed7953"
             ],
             [
              0.7777777777777778,
              "#fb9f3a"
             ],
             [
              0.8888888888888888,
              "#fdca26"
             ],
             [
              1,
              "#f0f921"
             ]
            ],
            "type": "histogram2dcontour"
           }
          ],
          "mesh3d": [
           {
            "colorbar": {
             "outlinewidth": 0,
             "ticks": ""
            },
            "type": "mesh3d"
           }
          ],
          "parcoords": [
           {
            "line": {
             "colorbar": {
              "outlinewidth": 0,
              "ticks": ""
             }
            },
            "type": "parcoords"
           }
          ],
          "pie": [
           {
            "automargin": true,
            "type": "pie"
           }
          ],
          "scatter": [
           {
            "fillpattern": {
             "fillmode": "overlay",
             "size": 10,
             "solidity": 0.2
            },
            "type": "scatter"
           }
          ],
          "scatter3d": [
           {
            "line": {
             "colorbar": {
              "outlinewidth": 0,
              "ticks": ""
             }
            },
            "marker": {
             "colorbar": {
              "outlinewidth": 0,
              "ticks": ""
             }
            },
            "type": "scatter3d"
           }
          ],
          "scattercarpet": [
           {
            "marker": {
             "colorbar": {
              "outlinewidth": 0,
              "ticks": ""
             }
            },
            "type": "scattercarpet"
           }
          ],
          "scattergeo": [
           {
            "marker": {
             "colorbar": {
              "outlinewidth": 0,
              "ticks": ""
             }
            },
            "type": "scattergeo"
           }
          ],
          "scattergl": [
           {
            "marker": {
             "colorbar": {
              "outlinewidth": 0,
              "ticks": ""
             }
            },
            "type": "scattergl"
           }
          ],
          "scattermapbox": [
           {
            "marker": {
             "colorbar": {
              "outlinewidth": 0,
              "ticks": ""
             }
            },
            "type": "scattermapbox"
           }
          ],
          "scatterpolar": [
           {
            "marker": {
             "colorbar": {
              "outlinewidth": 0,
              "ticks": ""
             }
            },
            "type": "scatterpolar"
           }
          ],
          "scatterpolargl": [
           {
            "marker": {
             "colorbar": {
              "outlinewidth": 0,
              "ticks": ""
             }
            },
            "type": "scatterpolargl"
           }
          ],
          "scatterternary": [
           {
            "marker": {
             "colorbar": {
              "outlinewidth": 0,
              "ticks": ""
             }
            },
            "type": "scatterternary"
           }
          ],
          "surface": [
           {
            "colorbar": {
             "outlinewidth": 0,
             "ticks": ""
            },
            "colorscale": [
             [
              0,
              "#0d0887"
             ],
             [
              0.1111111111111111,
              "#46039f"
             ],
             [
              0.2222222222222222,
              "#7201a8"
             ],
             [
              0.3333333333333333,
              "#9c179e"
             ],
             [
              0.4444444444444444,
              "#bd3786"
             ],
             [
              0.5555555555555556,
              "#d8576b"
             ],
             [
              0.6666666666666666,
              "#ed7953"
             ],
             [
              0.7777777777777778,
              "#fb9f3a"
             ],
             [
              0.8888888888888888,
              "#fdca26"
             ],
             [
              1,
              "#f0f921"
             ]
            ],
            "type": "surface"
           }
          ],
          "table": [
           {
            "cells": {
             "fill": {
              "color": "#EBF0F8"
             },
             "line": {
              "color": "white"
             }
            },
            "header": {
             "fill": {
              "color": "#C8D4E3"
             },
             "line": {
              "color": "white"
             }
            },
            "type": "table"
           }
          ]
         },
         "layout": {
          "annotationdefaults": {
           "arrowcolor": "#2a3f5f",
           "arrowhead": 0,
           "arrowwidth": 1
          },
          "autotypenumbers": "strict",
          "coloraxis": {
           "colorbar": {
            "outlinewidth": 0,
            "ticks": ""
           }
          },
          "colorscale": {
           "diverging": [
            [
             0,
             "#8e0152"
            ],
            [
             0.1,
             "#c51b7d"
            ],
            [
             0.2,
             "#de77ae"
            ],
            [
             0.3,
             "#f1b6da"
            ],
            [
             0.4,
             "#fde0ef"
            ],
            [
             0.5,
             "#f7f7f7"
            ],
            [
             0.6,
             "#e6f5d0"
            ],
            [
             0.7,
             "#b8e186"
            ],
            [
             0.8,
             "#7fbc41"
            ],
            [
             0.9,
             "#4d9221"
            ],
            [
             1,
             "#276419"
            ]
           ],
           "sequential": [
            [
             0,
             "#0d0887"
            ],
            [
             0.1111111111111111,
             "#46039f"
            ],
            [
             0.2222222222222222,
             "#7201a8"
            ],
            [
             0.3333333333333333,
             "#9c179e"
            ],
            [
             0.4444444444444444,
             "#bd3786"
            ],
            [
             0.5555555555555556,
             "#d8576b"
            ],
            [
             0.6666666666666666,
             "#ed7953"
            ],
            [
             0.7777777777777778,
             "#fb9f3a"
            ],
            [
             0.8888888888888888,
             "#fdca26"
            ],
            [
             1,
             "#f0f921"
            ]
           ],
           "sequentialminus": [
            [
             0,
             "#0d0887"
            ],
            [
             0.1111111111111111,
             "#46039f"
            ],
            [
             0.2222222222222222,
             "#7201a8"
            ],
            [
             0.3333333333333333,
             "#9c179e"
            ],
            [
             0.4444444444444444,
             "#bd3786"
            ],
            [
             0.5555555555555556,
             "#d8576b"
            ],
            [
             0.6666666666666666,
             "#ed7953"
            ],
            [
             0.7777777777777778,
             "#fb9f3a"
            ],
            [
             0.8888888888888888,
             "#fdca26"
            ],
            [
             1,
             "#f0f921"
            ]
           ]
          },
          "colorway": [
           "#636efa",
           "#EF553B",
           "#00cc96",
           "#ab63fa",
           "#FFA15A",
           "#19d3f3",
           "#FF6692",
           "#B6E880",
           "#FF97FF",
           "#FECB52"
          ],
          "font": {
           "color": "#2a3f5f"
          },
          "geo": {
           "bgcolor": "white",
           "lakecolor": "white",
           "landcolor": "#E5ECF6",
           "showlakes": true,
           "showland": true,
           "subunitcolor": "white"
          },
          "hoverlabel": {
           "align": "left"
          },
          "hovermode": "closest",
          "mapbox": {
           "style": "light"
          },
          "paper_bgcolor": "white",
          "plot_bgcolor": "#E5ECF6",
          "polar": {
           "angularaxis": {
            "gridcolor": "white",
            "linecolor": "white",
            "ticks": ""
           },
           "bgcolor": "#E5ECF6",
           "radialaxis": {
            "gridcolor": "white",
            "linecolor": "white",
            "ticks": ""
           }
          },
          "scene": {
           "xaxis": {
            "backgroundcolor": "#E5ECF6",
            "gridcolor": "white",
            "gridwidth": 2,
            "linecolor": "white",
            "showbackground": true,
            "ticks": "",
            "zerolinecolor": "white"
           },
           "yaxis": {
            "backgroundcolor": "#E5ECF6",
            "gridcolor": "white",
            "gridwidth": 2,
            "linecolor": "white",
            "showbackground": true,
            "ticks": "",
            "zerolinecolor": "white"
           },
           "zaxis": {
            "backgroundcolor": "#E5ECF6",
            "gridcolor": "white",
            "gridwidth": 2,
            "linecolor": "white",
            "showbackground": true,
            "ticks": "",
            "zerolinecolor": "white"
           }
          },
          "shapedefaults": {
           "line": {
            "color": "#2a3f5f"
           }
          },
          "ternary": {
           "aaxis": {
            "gridcolor": "white",
            "linecolor": "white",
            "ticks": ""
           },
           "baxis": {
            "gridcolor": "white",
            "linecolor": "white",
            "ticks": ""
           },
           "bgcolor": "#E5ECF6",
           "caxis": {
            "gridcolor": "white",
            "linecolor": "white",
            "ticks": ""
           }
          },
          "title": {
           "x": 0.05
          },
          "xaxis": {
           "automargin": true,
           "gridcolor": "white",
           "linecolor": "white",
           "ticks": "",
           "title": {
            "standoff": 15
           },
           "zerolinecolor": "white",
           "zerolinewidth": 2
          },
          "yaxis": {
           "automargin": true,
           "gridcolor": "white",
           "linecolor": "white",
           "ticks": "",
           "title": {
            "standoff": 15
           },
           "zerolinecolor": "white",
           "zerolinewidth": 2
          }
         }
        },
        "title": {
         "text": "Top 10 frequently sold products (Graphical Representation)"
        },
        "xaxis": {
         "anchor": "y",
         "domain": [
          0,
          1
         ],
         "title": {
          "text": "Products"
         }
        },
        "yaxis": {
         "anchor": "x",
         "domain": [
          0,
          1
         ],
         "title": {
          "text": "Count"
         }
        }
       }
      }
     },
     "metadata": {},
     "output_type": "display_data"
    }
   ],
   "source": [
    "print(\"Top 10 frequently sold products(Tabular Representation)\")\n",
    "x = data['itemDescription'].value_counts().sort_values(ascending=False)[:10]\n",
    "fig = px.bar(x = x.index, y = x.values)\n",
    "fig.update_layout(title_text=\"Top 10 frequently sold products (Graphical Representation)\", xaxis_title=\"Products\",yaxis_title=\"Count\")\n",
    "fig.show()"
   ]
  },
  {
   "cell_type": "markdown",
   "metadata": {},
   "source": [
    "Now let’s explore the higher sales:"
   ]
  },
  {
   "cell_type": "code",
   "execution_count": 4,
   "metadata": {},
   "outputs": [
    {
     "data": {
      "application/vnd.plotly.v1+json": {
       "config": {
        "plotlyServerURL": "https://plot.ly"
       },
       "data": [
        {
         "alignmentgroup": "True",
         "hovertemplate": "Month-Year=%{x}<br>Count=%{y}<br>Meter=%{marker.color}<extra></extra>",
         "legendgroup": "",
         "marker": {
          "color": [
           1921,
           1797,
           1793,
           1785,
           1724,
           1722,
           1699,
           1694,
           1670,
           1615,
           1591,
           1587,
           1576,
           1575,
           1570,
           1561,
           1560,
           1536,
           1527,
           1473,
           1472,
           1469,
           1437,
           1411
          ],
          "coloraxis": "coloraxis",
          "pattern": {
           "shape": ""
          }
         },
         "name": "",
         "offsetgroup": "",
         "orientation": "v",
         "showlegend": false,
         "textposition": "auto",
         "type": "bar",
         "x": [
          "08-2015",
          "01-2015",
          "05-2015",
          "11-2015",
          "07-2015",
          "03-2015",
          "04-2015",
          "06-2015",
          "10-2015",
          "05-2014",
          "10-2014",
          "09-2015",
          "07-2014",
          "08-2014",
          "06-2014",
          "04-2014",
          "02-2015",
          "12-2015",
          "01-2014",
          "12-2014",
          "09-2014",
          "11-2014",
          "02-2014",
          "03-2014"
         ],
         "xaxis": "x",
         "y": [
          1921,
          1797,
          1793,
          1785,
          1724,
          1722,
          1699,
          1694,
          1670,
          1615,
          1591,
          1587,
          1576,
          1575,
          1570,
          1561,
          1560,
          1536,
          1527,
          1473,
          1472,
          1469,
          1437,
          1411
         ],
         "yaxis": "y"
        }
       ],
       "layout": {
        "barmode": "relative",
        "coloraxis": {
         "colorbar": {
          "title": {
           "text": "Meter"
          }
         },
         "colorscale": [
          [
           0,
           "#0d0887"
          ],
          [
           0.1111111111111111,
           "#46039f"
          ],
          [
           0.2222222222222222,
           "#7201a8"
          ],
          [
           0.3333333333333333,
           "#9c179e"
          ],
          [
           0.4444444444444444,
           "#bd3786"
          ],
          [
           0.5555555555555556,
           "#d8576b"
          ],
          [
           0.6666666666666666,
           "#ed7953"
          ],
          [
           0.7777777777777778,
           "#fb9f3a"
          ],
          [
           0.8888888888888888,
           "#fdca26"
          ],
          [
           1,
           "#f0f921"
          ]
         ]
        },
        "legend": {
         "tracegroupgap": 0
        },
        "margin": {
         "t": 60
        },
        "template": {
         "data": {
          "bar": [
           {
            "error_x": {
             "color": "#2a3f5f"
            },
            "error_y": {
             "color": "#2a3f5f"
            },
            "marker": {
             "line": {
              "color": "#E5ECF6",
              "width": 0.5
             },
             "pattern": {
              "fillmode": "overlay",
              "size": 10,
              "solidity": 0.2
             }
            },
            "type": "bar"
           }
          ],
          "barpolar": [
           {
            "marker": {
             "line": {
              "color": "#E5ECF6",
              "width": 0.5
             },
             "pattern": {
              "fillmode": "overlay",
              "size": 10,
              "solidity": 0.2
             }
            },
            "type": "barpolar"
           }
          ],
          "carpet": [
           {
            "aaxis": {
             "endlinecolor": "#2a3f5f",
             "gridcolor": "white",
             "linecolor": "white",
             "minorgridcolor": "white",
             "startlinecolor": "#2a3f5f"
            },
            "baxis": {
             "endlinecolor": "#2a3f5f",
             "gridcolor": "white",
             "linecolor": "white",
             "minorgridcolor": "white",
             "startlinecolor": "#2a3f5f"
            },
            "type": "carpet"
           }
          ],
          "choropleth": [
           {
            "colorbar": {
             "outlinewidth": 0,
             "ticks": ""
            },
            "type": "choropleth"
           }
          ],
          "contour": [
           {
            "colorbar": {
             "outlinewidth": 0,
             "ticks": ""
            },
            "colorscale": [
             [
              0,
              "#0d0887"
             ],
             [
              0.1111111111111111,
              "#46039f"
             ],
             [
              0.2222222222222222,
              "#7201a8"
             ],
             [
              0.3333333333333333,
              "#9c179e"
             ],
             [
              0.4444444444444444,
              "#bd3786"
             ],
             [
              0.5555555555555556,
              "#d8576b"
             ],
             [
              0.6666666666666666,
              "#ed7953"
             ],
             [
              0.7777777777777778,
              "#fb9f3a"
             ],
             [
              0.8888888888888888,
              "#fdca26"
             ],
             [
              1,
              "#f0f921"
             ]
            ],
            "type": "contour"
           }
          ],
          "contourcarpet": [
           {
            "colorbar": {
             "outlinewidth": 0,
             "ticks": ""
            },
            "type": "contourcarpet"
           }
          ],
          "heatmap": [
           {
            "colorbar": {
             "outlinewidth": 0,
             "ticks": ""
            },
            "colorscale": [
             [
              0,
              "#0d0887"
             ],
             [
              0.1111111111111111,
              "#46039f"
             ],
             [
              0.2222222222222222,
              "#7201a8"
             ],
             [
              0.3333333333333333,
              "#9c179e"
             ],
             [
              0.4444444444444444,
              "#bd3786"
             ],
             [
              0.5555555555555556,
              "#d8576b"
             ],
             [
              0.6666666666666666,
              "#ed7953"
             ],
             [
              0.7777777777777778,
              "#fb9f3a"
             ],
             [
              0.8888888888888888,
              "#fdca26"
             ],
             [
              1,
              "#f0f921"
             ]
            ],
            "type": "heatmap"
           }
          ],
          "heatmapgl": [
           {
            "colorbar": {
             "outlinewidth": 0,
             "ticks": ""
            },
            "colorscale": [
             [
              0,
              "#0d0887"
             ],
             [
              0.1111111111111111,
              "#46039f"
             ],
             [
              0.2222222222222222,
              "#7201a8"
             ],
             [
              0.3333333333333333,
              "#9c179e"
             ],
             [
              0.4444444444444444,
              "#bd3786"
             ],
             [
              0.5555555555555556,
              "#d8576b"
             ],
             [
              0.6666666666666666,
              "#ed7953"
             ],
             [
              0.7777777777777778,
              "#fb9f3a"
             ],
             [
              0.8888888888888888,
              "#fdca26"
             ],
             [
              1,
              "#f0f921"
             ]
            ],
            "type": "heatmapgl"
           }
          ],
          "histogram": [
           {
            "marker": {
             "pattern": {
              "fillmode": "overlay",
              "size": 10,
              "solidity": 0.2
             }
            },
            "type": "histogram"
           }
          ],
          "histogram2d": [
           {
            "colorbar": {
             "outlinewidth": 0,
             "ticks": ""
            },
            "colorscale": [
             [
              0,
              "#0d0887"
             ],
             [
              0.1111111111111111,
              "#46039f"
             ],
             [
              0.2222222222222222,
              "#7201a8"
             ],
             [
              0.3333333333333333,
              "#9c179e"
             ],
             [
              0.4444444444444444,
              "#bd3786"
             ],
             [
              0.5555555555555556,
              "#d8576b"
             ],
             [
              0.6666666666666666,
              "#ed7953"
             ],
             [
              0.7777777777777778,
              "#fb9f3a"
             ],
             [
              0.8888888888888888,
              "#fdca26"
             ],
             [
              1,
              "#f0f921"
             ]
            ],
            "type": "histogram2d"
           }
          ],
          "histogram2dcontour": [
           {
            "colorbar": {
             "outlinewidth": 0,
             "ticks": ""
            },
            "colorscale": [
             [
              0,
              "#0d0887"
             ],
             [
              0.1111111111111111,
              "#46039f"
             ],
             [
              0.2222222222222222,
              "#7201a8"
             ],
             [
              0.3333333333333333,
              "#9c179e"
             ],
             [
              0.4444444444444444,
              "#bd3786"
             ],
             [
              0.5555555555555556,
              "#d8576b"
             ],
             [
              0.6666666666666666,
              "#ed7953"
             ],
             [
              0.7777777777777778,
              "#fb9f3a"
             ],
             [
              0.8888888888888888,
              "#fdca26"
             ],
             [
              1,
              "#f0f921"
             ]
            ],
            "type": "histogram2dcontour"
           }
          ],
          "mesh3d": [
           {
            "colorbar": {
             "outlinewidth": 0,
             "ticks": ""
            },
            "type": "mesh3d"
           }
          ],
          "parcoords": [
           {
            "line": {
             "colorbar": {
              "outlinewidth": 0,
              "ticks": ""
             }
            },
            "type": "parcoords"
           }
          ],
          "pie": [
           {
            "automargin": true,
            "type": "pie"
           }
          ],
          "scatter": [
           {
            "fillpattern": {
             "fillmode": "overlay",
             "size": 10,
             "solidity": 0.2
            },
            "type": "scatter"
           }
          ],
          "scatter3d": [
           {
            "line": {
             "colorbar": {
              "outlinewidth": 0,
              "ticks": ""
             }
            },
            "marker": {
             "colorbar": {
              "outlinewidth": 0,
              "ticks": ""
             }
            },
            "type": "scatter3d"
           }
          ],
          "scattercarpet": [
           {
            "marker": {
             "colorbar": {
              "outlinewidth": 0,
              "ticks": ""
             }
            },
            "type": "scattercarpet"
           }
          ],
          "scattergeo": [
           {
            "marker": {
             "colorbar": {
              "outlinewidth": 0,
              "ticks": ""
             }
            },
            "type": "scattergeo"
           }
          ],
          "scattergl": [
           {
            "marker": {
             "colorbar": {
              "outlinewidth": 0,
              "ticks": ""
             }
            },
            "type": "scattergl"
           }
          ],
          "scattermapbox": [
           {
            "marker": {
             "colorbar": {
              "outlinewidth": 0,
              "ticks": ""
             }
            },
            "type": "scattermapbox"
           }
          ],
          "scatterpolar": [
           {
            "marker": {
             "colorbar": {
              "outlinewidth": 0,
              "ticks": ""
             }
            },
            "type": "scatterpolar"
           }
          ],
          "scatterpolargl": [
           {
            "marker": {
             "colorbar": {
              "outlinewidth": 0,
              "ticks": ""
             }
            },
            "type": "scatterpolargl"
           }
          ],
          "scatterternary": [
           {
            "marker": {
             "colorbar": {
              "outlinewidth": 0,
              "ticks": ""
             }
            },
            "type": "scatterternary"
           }
          ],
          "surface": [
           {
            "colorbar": {
             "outlinewidth": 0,
             "ticks": ""
            },
            "colorscale": [
             [
              0,
              "#0d0887"
             ],
             [
              0.1111111111111111,
              "#46039f"
             ],
             [
              0.2222222222222222,
              "#7201a8"
             ],
             [
              0.3333333333333333,
              "#9c179e"
             ],
             [
              0.4444444444444444,
              "#bd3786"
             ],
             [
              0.5555555555555556,
              "#d8576b"
             ],
             [
              0.6666666666666666,
              "#ed7953"
             ],
             [
              0.7777777777777778,
              "#fb9f3a"
             ],
             [
              0.8888888888888888,
              "#fdca26"
             ],
             [
              1,
              "#f0f921"
             ]
            ],
            "type": "surface"
           }
          ],
          "table": [
           {
            "cells": {
             "fill": {
              "color": "#EBF0F8"
             },
             "line": {
              "color": "white"
             }
            },
            "header": {
             "fill": {
              "color": "#C8D4E3"
             },
             "line": {
              "color": "white"
             }
            },
            "type": "table"
           }
          ]
         },
         "layout": {
          "annotationdefaults": {
           "arrowcolor": "#2a3f5f",
           "arrowhead": 0,
           "arrowwidth": 1
          },
          "autotypenumbers": "strict",
          "coloraxis": {
           "colorbar": {
            "outlinewidth": 0,
            "ticks": ""
           }
          },
          "colorscale": {
           "diverging": [
            [
             0,
             "#8e0152"
            ],
            [
             0.1,
             "#c51b7d"
            ],
            [
             0.2,
             "#de77ae"
            ],
            [
             0.3,
             "#f1b6da"
            ],
            [
             0.4,
             "#fde0ef"
            ],
            [
             0.5,
             "#f7f7f7"
            ],
            [
             0.6,
             "#e6f5d0"
            ],
            [
             0.7,
             "#b8e186"
            ],
            [
             0.8,
             "#7fbc41"
            ],
            [
             0.9,
             "#4d9221"
            ],
            [
             1,
             "#276419"
            ]
           ],
           "sequential": [
            [
             0,
             "#0d0887"
            ],
            [
             0.1111111111111111,
             "#46039f"
            ],
            [
             0.2222222222222222,
             "#7201a8"
            ],
            [
             0.3333333333333333,
             "#9c179e"
            ],
            [
             0.4444444444444444,
             "#bd3786"
            ],
            [
             0.5555555555555556,
             "#d8576b"
            ],
            [
             0.6666666666666666,
             "#ed7953"
            ],
            [
             0.7777777777777778,
             "#fb9f3a"
            ],
            [
             0.8888888888888888,
             "#fdca26"
            ],
            [
             1,
             "#f0f921"
            ]
           ],
           "sequentialminus": [
            [
             0,
             "#0d0887"
            ],
            [
             0.1111111111111111,
             "#46039f"
            ],
            [
             0.2222222222222222,
             "#7201a8"
            ],
            [
             0.3333333333333333,
             "#9c179e"
            ],
            [
             0.4444444444444444,
             "#bd3786"
            ],
            [
             0.5555555555555556,
             "#d8576b"
            ],
            [
             0.6666666666666666,
             "#ed7953"
            ],
            [
             0.7777777777777778,
             "#fb9f3a"
            ],
            [
             0.8888888888888888,
             "#fdca26"
            ],
            [
             1,
             "#f0f921"
            ]
           ]
          },
          "colorway": [
           "#636efa",
           "#EF553B",
           "#00cc96",
           "#ab63fa",
           "#FFA15A",
           "#19d3f3",
           "#FF6692",
           "#B6E880",
           "#FF97FF",
           "#FECB52"
          ],
          "font": {
           "color": "#2a3f5f"
          },
          "geo": {
           "bgcolor": "white",
           "lakecolor": "white",
           "landcolor": "#E5ECF6",
           "showlakes": true,
           "showland": true,
           "subunitcolor": "white"
          },
          "hoverlabel": {
           "align": "left"
          },
          "hovermode": "closest",
          "mapbox": {
           "style": "light"
          },
          "paper_bgcolor": "white",
          "plot_bgcolor": "#E5ECF6",
          "polar": {
           "angularaxis": {
            "gridcolor": "white",
            "linecolor": "white",
            "ticks": ""
           },
           "bgcolor": "#E5ECF6",
           "radialaxis": {
            "gridcolor": "white",
            "linecolor": "white",
            "ticks": ""
           }
          },
          "scene": {
           "xaxis": {
            "backgroundcolor": "#E5ECF6",
            "gridcolor": "white",
            "gridwidth": 2,
            "linecolor": "white",
            "showbackground": true,
            "ticks": "",
            "zerolinecolor": "white"
           },
           "yaxis": {
            "backgroundcolor": "#E5ECF6",
            "gridcolor": "white",
            "gridwidth": 2,
            "linecolor": "white",
            "showbackground": true,
            "ticks": "",
            "zerolinecolor": "white"
           },
           "zaxis": {
            "backgroundcolor": "#E5ECF6",
            "gridcolor": "white",
            "gridwidth": 2,
            "linecolor": "white",
            "showbackground": true,
            "ticks": "",
            "zerolinecolor": "white"
           }
          },
          "shapedefaults": {
           "line": {
            "color": "#2a3f5f"
           }
          },
          "ternary": {
           "aaxis": {
            "gridcolor": "white",
            "linecolor": "white",
            "ticks": ""
           },
           "baxis": {
            "gridcolor": "white",
            "linecolor": "white",
            "ticks": ""
           },
           "bgcolor": "#E5ECF6",
           "caxis": {
            "gridcolor": "white",
            "linecolor": "white",
            "ticks": ""
           }
          },
          "title": {
           "x": 0.05
          },
          "xaxis": {
           "automargin": true,
           "gridcolor": "white",
           "linecolor": "white",
           "ticks": "",
           "title": {
            "standoff": 15
           },
           "zerolinecolor": "white",
           "zerolinewidth": 2
          },
          "yaxis": {
           "automargin": true,
           "gridcolor": "white",
           "linecolor": "white",
           "ticks": "",
           "title": {
            "standoff": 15
           },
           "zerolinecolor": "white",
           "zerolinewidth": 2
          }
         }
        },
        "title": {
         "text": "Exploring higher sales by the date"
        },
        "xaxis": {
         "anchor": "y",
         "domain": [
          0,
          1
         ],
         "title": {
          "text": "Month-Year"
         }
        },
        "yaxis": {
         "anchor": "x",
         "domain": [
          0,
          1
         ],
         "title": {
          "text": "Count"
         }
        }
       }
      }
     },
     "metadata": {},
     "output_type": "display_data"
    }
   ],
   "source": [
    "data[\"Year\"] = data['Date'].str.split(\"-\").str[-1]\n",
    "data[\"Month-Year\"] = data['Date'].str.split(\"-\").str[1] + \"-\" + data['Date'].str.split(\"-\").str[-1]\n",
    "fig1 = px.bar(data[\"Month-Year\"].value_counts(ascending=False),\n",
    "              orientation=\"v\",\n",
    "              color = data[\"Month-Year\"].value_counts(ascending=False),\n",
    "              labels={'value':'Count','index':'Date','color':'Meter'})\n",
    "\n",
    "fig1.update_layout(title_text=\"Exploring higher sales by the date\")\n",
    "\n",
    "fig1.show()"
   ]
  },
  {
   "cell_type": "markdown",
   "metadata": {},
   "source": [
    "### Observations\n",
    "\n",
    "1. Milk is bought the most, followed by vegetables.\n",
    "2. Most shopping takes place in August / September, while February / March is the least demanding."
   ]
  },
  {
   "cell_type": "code",
   "execution_count": 5,
   "metadata": {},
   "outputs": [],
   "source": [
    "products = data[\"itemDescription\"].unique()"
   ]
  },
  {
   "cell_type": "code",
   "execution_count": 6,
   "metadata": {},
   "outputs": [
    {
     "data": {
      "text/html": [
       "<div>\n",
       "<style scoped>\n",
       "    .dataframe tbody tr th:only-of-type {\n",
       "        vertical-align: middle;\n",
       "    }\n",
       "\n",
       "    .dataframe tbody tr th {\n",
       "        vertical-align: top;\n",
       "    }\n",
       "\n",
       "    .dataframe thead th {\n",
       "        text-align: right;\n",
       "    }\n",
       "</style>\n",
       "<table border=\"1\" class=\"dataframe\">\n",
       "  <thead>\n",
       "    <tr style=\"text-align: right;\">\n",
       "      <th></th>\n",
       "      <th>Member_number</th>\n",
       "      <th>Date</th>\n",
       "      <th>Year</th>\n",
       "      <th>Month-Year</th>\n",
       "      <th>Instant food products</th>\n",
       "      <th>UHT-milk</th>\n",
       "      <th>abrasive cleaner</th>\n",
       "      <th>artif. sweetener</th>\n",
       "      <th>baby cosmetics</th>\n",
       "      <th>bags</th>\n",
       "      <th>...</th>\n",
       "      <th>turkey</th>\n",
       "      <th>vinegar</th>\n",
       "      <th>waffles</th>\n",
       "      <th>whipped/sour cream</th>\n",
       "      <th>whisky</th>\n",
       "      <th>white bread</th>\n",
       "      <th>white wine</th>\n",
       "      <th>whole milk</th>\n",
       "      <th>yogurt</th>\n",
       "      <th>zwieback</th>\n",
       "    </tr>\n",
       "  </thead>\n",
       "  <tbody>\n",
       "    <tr>\n",
       "      <th>0</th>\n",
       "      <td>1808</td>\n",
       "      <td>21-07-2015</td>\n",
       "      <td>2015</td>\n",
       "      <td>07-2015</td>\n",
       "      <td>0</td>\n",
       "      <td>0</td>\n",
       "      <td>0</td>\n",
       "      <td>0</td>\n",
       "      <td>0</td>\n",
       "      <td>0</td>\n",
       "      <td>...</td>\n",
       "      <td>0</td>\n",
       "      <td>0</td>\n",
       "      <td>0</td>\n",
       "      <td>0</td>\n",
       "      <td>0</td>\n",
       "      <td>0</td>\n",
       "      <td>0</td>\n",
       "      <td>0</td>\n",
       "      <td>0</td>\n",
       "      <td>0</td>\n",
       "    </tr>\n",
       "    <tr>\n",
       "      <th>1</th>\n",
       "      <td>2552</td>\n",
       "      <td>05-01-2015</td>\n",
       "      <td>2015</td>\n",
       "      <td>01-2015</td>\n",
       "      <td>0</td>\n",
       "      <td>0</td>\n",
       "      <td>0</td>\n",
       "      <td>0</td>\n",
       "      <td>0</td>\n",
       "      <td>0</td>\n",
       "      <td>...</td>\n",
       "      <td>0</td>\n",
       "      <td>0</td>\n",
       "      <td>0</td>\n",
       "      <td>0</td>\n",
       "      <td>0</td>\n",
       "      <td>0</td>\n",
       "      <td>0</td>\n",
       "      <td>1</td>\n",
       "      <td>0</td>\n",
       "      <td>0</td>\n",
       "    </tr>\n",
       "    <tr>\n",
       "      <th>2</th>\n",
       "      <td>2300</td>\n",
       "      <td>19-09-2015</td>\n",
       "      <td>2015</td>\n",
       "      <td>09-2015</td>\n",
       "      <td>0</td>\n",
       "      <td>0</td>\n",
       "      <td>0</td>\n",
       "      <td>0</td>\n",
       "      <td>0</td>\n",
       "      <td>0</td>\n",
       "      <td>...</td>\n",
       "      <td>0</td>\n",
       "      <td>0</td>\n",
       "      <td>0</td>\n",
       "      <td>0</td>\n",
       "      <td>0</td>\n",
       "      <td>0</td>\n",
       "      <td>0</td>\n",
       "      <td>0</td>\n",
       "      <td>0</td>\n",
       "      <td>0</td>\n",
       "    </tr>\n",
       "    <tr>\n",
       "      <th>3</th>\n",
       "      <td>1187</td>\n",
       "      <td>12-12-2015</td>\n",
       "      <td>2015</td>\n",
       "      <td>12-2015</td>\n",
       "      <td>0</td>\n",
       "      <td>0</td>\n",
       "      <td>0</td>\n",
       "      <td>0</td>\n",
       "      <td>0</td>\n",
       "      <td>0</td>\n",
       "      <td>...</td>\n",
       "      <td>0</td>\n",
       "      <td>0</td>\n",
       "      <td>0</td>\n",
       "      <td>0</td>\n",
       "      <td>0</td>\n",
       "      <td>0</td>\n",
       "      <td>0</td>\n",
       "      <td>0</td>\n",
       "      <td>0</td>\n",
       "      <td>0</td>\n",
       "    </tr>\n",
       "    <tr>\n",
       "      <th>4</th>\n",
       "      <td>3037</td>\n",
       "      <td>01-02-2015</td>\n",
       "      <td>2015</td>\n",
       "      <td>02-2015</td>\n",
       "      <td>0</td>\n",
       "      <td>0</td>\n",
       "      <td>0</td>\n",
       "      <td>0</td>\n",
       "      <td>0</td>\n",
       "      <td>0</td>\n",
       "      <td>...</td>\n",
       "      <td>0</td>\n",
       "      <td>0</td>\n",
       "      <td>0</td>\n",
       "      <td>0</td>\n",
       "      <td>0</td>\n",
       "      <td>0</td>\n",
       "      <td>0</td>\n",
       "      <td>1</td>\n",
       "      <td>0</td>\n",
       "      <td>0</td>\n",
       "    </tr>\n",
       "  </tbody>\n",
       "</table>\n",
       "<p>5 rows × 171 columns</p>\n",
       "</div>"
      ],
      "text/plain": [
       "   Member_number        Date  Year Month-Year  Instant food products  \\\n",
       "0           1808  21-07-2015  2015    07-2015                      0   \n",
       "1           2552  05-01-2015  2015    01-2015                      0   \n",
       "2           2300  19-09-2015  2015    09-2015                      0   \n",
       "3           1187  12-12-2015  2015    12-2015                      0   \n",
       "4           3037  01-02-2015  2015    02-2015                      0   \n",
       "\n",
       "   UHT-milk  abrasive cleaner  artif. sweetener  baby cosmetics  bags  ...  \\\n",
       "0         0                 0                 0               0     0  ...   \n",
       "1         0                 0                 0               0     0  ...   \n",
       "2         0                 0                 0               0     0  ...   \n",
       "3         0                 0                 0               0     0  ...   \n",
       "4         0                 0                 0               0     0  ...   \n",
       "\n",
       "   turkey  vinegar  waffles  whipped/sour cream  whisky  white bread  \\\n",
       "0       0        0        0                   0       0            0   \n",
       "1       0        0        0                   0       0            0   \n",
       "2       0        0        0                   0       0            0   \n",
       "3       0        0        0                   0       0            0   \n",
       "4       0        0        0                   0       0            0   \n",
       "\n",
       "   white wine  whole milk  yogurt  zwieback  \n",
       "0           0           0       0         0  \n",
       "1           0           1       0         0  \n",
       "2           0           0       0         0  \n",
       "3           0           0       0         0  \n",
       "4           0           1       0         0  \n",
       "\n",
       "[5 rows x 171 columns]"
      ]
     },
     "execution_count": 6,
     "metadata": {},
     "output_type": "execute_result"
    }
   ],
   "source": [
    "# one hot encoding the products\n",
    "\n",
    "dummy = pd.get_dummies(data['itemDescription'], dtype=int)\n",
    "data.drop(['itemDescription'], inplace=True, axis=1)\n",
    "\n",
    "data = data.join(dummy)\n",
    "\n",
    "data.head()"
   ]
  },
  {
   "cell_type": "code",
   "execution_count": 8,
   "metadata": {},
   "outputs": [
    {
     "name": "stdout",
     "output_type": "stream",
     "text": [
      "New Dimension (14963, 167)\n"
     ]
    },
    {
     "data": {
      "text/html": [
       "<div>\n",
       "<style scoped>\n",
       "    .dataframe tbody tr th:only-of-type {\n",
       "        vertical-align: middle;\n",
       "    }\n",
       "\n",
       "    .dataframe tbody tr th {\n",
       "        vertical-align: top;\n",
       "    }\n",
       "\n",
       "    .dataframe thead th {\n",
       "        text-align: right;\n",
       "    }\n",
       "</style>\n",
       "<table border=\"1\" class=\"dataframe\">\n",
       "  <thead>\n",
       "    <tr style=\"text-align: right;\">\n",
       "      <th></th>\n",
       "      <th>tropical fruit</th>\n",
       "      <th>whole milk</th>\n",
       "      <th>pip fruit</th>\n",
       "      <th>other vegetables</th>\n",
       "      <th>rolls/buns</th>\n",
       "      <th>pot plants</th>\n",
       "      <th>citrus fruit</th>\n",
       "      <th>beef</th>\n",
       "      <th>frankfurter</th>\n",
       "      <th>chicken</th>\n",
       "      <th>...</th>\n",
       "      <th>flower (seeds)</th>\n",
       "      <th>rice</th>\n",
       "      <th>tea</th>\n",
       "      <th>salad dressing</th>\n",
       "      <th>specialty vegetables</th>\n",
       "      <th>pudding powder</th>\n",
       "      <th>ready soups</th>\n",
       "      <th>make up remover</th>\n",
       "      <th>toilet cleaner</th>\n",
       "      <th>preservation products</th>\n",
       "    </tr>\n",
       "  </thead>\n",
       "  <tbody>\n",
       "    <tr>\n",
       "      <th>0</th>\n",
       "      <td>0</td>\n",
       "      <td>1</td>\n",
       "      <td>0</td>\n",
       "      <td>0</td>\n",
       "      <td>0</td>\n",
       "      <td>0</td>\n",
       "      <td>0</td>\n",
       "      <td>0</td>\n",
       "      <td>0</td>\n",
       "      <td>0</td>\n",
       "      <td>...</td>\n",
       "      <td>0</td>\n",
       "      <td>0</td>\n",
       "      <td>0</td>\n",
       "      <td>0</td>\n",
       "      <td>0</td>\n",
       "      <td>0</td>\n",
       "      <td>0</td>\n",
       "      <td>0</td>\n",
       "      <td>0</td>\n",
       "      <td>0</td>\n",
       "    </tr>\n",
       "    <tr>\n",
       "      <th>1</th>\n",
       "      <td>0</td>\n",
       "      <td>1</td>\n",
       "      <td>0</td>\n",
       "      <td>0</td>\n",
       "      <td>0</td>\n",
       "      <td>0</td>\n",
       "      <td>0</td>\n",
       "      <td>0</td>\n",
       "      <td>0</td>\n",
       "      <td>0</td>\n",
       "      <td>...</td>\n",
       "      <td>0</td>\n",
       "      <td>0</td>\n",
       "      <td>0</td>\n",
       "      <td>0</td>\n",
       "      <td>0</td>\n",
       "      <td>0</td>\n",
       "      <td>0</td>\n",
       "      <td>0</td>\n",
       "      <td>0</td>\n",
       "      <td>0</td>\n",
       "    </tr>\n",
       "    <tr>\n",
       "      <th>2</th>\n",
       "      <td>0</td>\n",
       "      <td>0</td>\n",
       "      <td>0</td>\n",
       "      <td>0</td>\n",
       "      <td>0</td>\n",
       "      <td>0</td>\n",
       "      <td>0</td>\n",
       "      <td>0</td>\n",
       "      <td>0</td>\n",
       "      <td>0</td>\n",
       "      <td>...</td>\n",
       "      <td>0</td>\n",
       "      <td>0</td>\n",
       "      <td>0</td>\n",
       "      <td>0</td>\n",
       "      <td>0</td>\n",
       "      <td>0</td>\n",
       "      <td>0</td>\n",
       "      <td>0</td>\n",
       "      <td>0</td>\n",
       "      <td>0</td>\n",
       "    </tr>\n",
       "    <tr>\n",
       "      <th>3</th>\n",
       "      <td>0</td>\n",
       "      <td>0</td>\n",
       "      <td>0</td>\n",
       "      <td>0</td>\n",
       "      <td>0</td>\n",
       "      <td>0</td>\n",
       "      <td>0</td>\n",
       "      <td>0</td>\n",
       "      <td>0</td>\n",
       "      <td>0</td>\n",
       "      <td>...</td>\n",
       "      <td>0</td>\n",
       "      <td>0</td>\n",
       "      <td>0</td>\n",
       "      <td>0</td>\n",
       "      <td>0</td>\n",
       "      <td>0</td>\n",
       "      <td>0</td>\n",
       "      <td>0</td>\n",
       "      <td>0</td>\n",
       "      <td>0</td>\n",
       "    </tr>\n",
       "    <tr>\n",
       "      <th>4</th>\n",
       "      <td>0</td>\n",
       "      <td>0</td>\n",
       "      <td>0</td>\n",
       "      <td>0</td>\n",
       "      <td>0</td>\n",
       "      <td>0</td>\n",
       "      <td>0</td>\n",
       "      <td>0</td>\n",
       "      <td>0</td>\n",
       "      <td>0</td>\n",
       "      <td>...</td>\n",
       "      <td>0</td>\n",
       "      <td>0</td>\n",
       "      <td>0</td>\n",
       "      <td>0</td>\n",
       "      <td>0</td>\n",
       "      <td>0</td>\n",
       "      <td>0</td>\n",
       "      <td>0</td>\n",
       "      <td>0</td>\n",
       "      <td>0</td>\n",
       "    </tr>\n",
       "  </tbody>\n",
       "</table>\n",
       "<p>5 rows × 167 columns</p>\n",
       "</div>"
      ],
      "text/plain": [
       "   tropical fruit  whole milk  pip fruit  other vegetables  rolls/buns  \\\n",
       "0               0           1          0                 0           0   \n",
       "1               0           1          0                 0           0   \n",
       "2               0           0          0                 0           0   \n",
       "3               0           0          0                 0           0   \n",
       "4               0           0          0                 0           0   \n",
       "\n",
       "   pot plants  citrus fruit  beef  frankfurter  chicken  ...  flower (seeds)  \\\n",
       "0           0             0     0            0        0  ...               0   \n",
       "1           0             0     0            0        0  ...               0   \n",
       "2           0             0     0            0        0  ...               0   \n",
       "3           0             0     0            0        0  ...               0   \n",
       "4           0             0     0            0        0  ...               0   \n",
       "\n",
       "   rice  tea  salad dressing  specialty vegetables  pudding powder  \\\n",
       "0     0    0               0                     0               0   \n",
       "1     0    0               0                     0               0   \n",
       "2     0    0               0                     0               0   \n",
       "3     0    0               0                     0               0   \n",
       "4     0    0               0                     0               0   \n",
       "\n",
       "   ready soups  make up remover  toilet cleaner  preservation products  \n",
       "0            0                0               0                      0  \n",
       "1            0                0               0                      0  \n",
       "2            0                0               0                      0  \n",
       "3            0                0               0                      0  \n",
       "4            0                0               0                      0  \n",
       "\n",
       "[5 rows x 167 columns]"
      ]
     },
     "execution_count": 8,
     "metadata": {},
     "output_type": "execute_result"
    }
   ],
   "source": [
    "# Transaction: If a customer bought multiple products in one day, it will be considered as 1 transaction:\n",
    "\n",
    "data1 = data.groupby(['Member_number', 'Date'])[products[:]].sum()\n",
    "data1 = data1.reset_index()[products]\n",
    "\n",
    "print(\"New Dimension\", data1.shape)\n",
    "data1.head()"
   ]
  },
  {
   "cell_type": "code",
   "execution_count": 9,
   "metadata": {},
   "outputs": [
    {
     "name": "stderr",
     "output_type": "stream",
     "text": [
      "/tmp/ipykernel_23985/4112871218.py:6: FutureWarning:\n",
      "\n",
      "Setting an item of incompatible dtype is deprecated and will raise in a future error of pandas. Value 'whole milk' has dtype incompatible with int64, please explicitly cast to a compatible dtype first.\n",
      "\n",
      "/tmp/ipykernel_23985/4112871218.py:6: FutureWarning:\n",
      "\n",
      "Setting an item of incompatible dtype is deprecated and will raise in a future error of pandas. Value 'canned beer' has dtype incompatible with int64, please explicitly cast to a compatible dtype first.\n",
      "\n",
      "/tmp/ipykernel_23985/4112871218.py:6: FutureWarning:\n",
      "\n",
      "Setting an item of incompatible dtype is deprecated and will raise in a future error of pandas. Value 'sausage' has dtype incompatible with int64, please explicitly cast to a compatible dtype first.\n",
      "\n",
      "/tmp/ipykernel_23985/4112871218.py:6: FutureWarning:\n",
      "\n",
      "Setting an item of incompatible dtype is deprecated and will raise in a future error of pandas. Value 'soda' has dtype incompatible with int64, please explicitly cast to a compatible dtype first.\n",
      "\n",
      "/tmp/ipykernel_23985/4112871218.py:6: FutureWarning:\n",
      "\n",
      "Setting an item of incompatible dtype is deprecated and will raise in a future error of pandas. Value 'frankfurter' has dtype incompatible with int64, please explicitly cast to a compatible dtype first.\n",
      "\n",
      "/tmp/ipykernel_23985/4112871218.py:6: FutureWarning:\n",
      "\n",
      "Setting an item of incompatible dtype is deprecated and will raise in a future error of pandas. Value 'beef' has dtype incompatible with int64, please explicitly cast to a compatible dtype first.\n",
      "\n",
      "/tmp/ipykernel_23985/4112871218.py:6: FutureWarning:\n",
      "\n",
      "Setting an item of incompatible dtype is deprecated and will raise in a future error of pandas. Value 'other vegetables' has dtype incompatible with int64, please explicitly cast to a compatible dtype first.\n",
      "\n",
      "/tmp/ipykernel_23985/4112871218.py:6: FutureWarning:\n",
      "\n",
      "Setting an item of incompatible dtype is deprecated and will raise in a future error of pandas. Value 'tropical fruit' has dtype incompatible with int64, please explicitly cast to a compatible dtype first.\n",
      "\n",
      "/tmp/ipykernel_23985/4112871218.py:6: FutureWarning:\n",
      "\n",
      "Setting an item of incompatible dtype is deprecated and will raise in a future error of pandas. Value 'butter milk' has dtype incompatible with int64, please explicitly cast to a compatible dtype first.\n",
      "\n",
      "/tmp/ipykernel_23985/4112871218.py:6: FutureWarning:\n",
      "\n",
      "Setting an item of incompatible dtype is deprecated and will raise in a future error of pandas. Value 'rolls/buns' has dtype incompatible with int64, please explicitly cast to a compatible dtype first.\n",
      "\n",
      "/tmp/ipykernel_23985/4112871218.py:6: FutureWarning:\n",
      "\n",
      "Setting an item of incompatible dtype is deprecated and will raise in a future error of pandas. Value 'root vegetables' has dtype incompatible with int64, please explicitly cast to a compatible dtype first.\n",
      "\n",
      "/tmp/ipykernel_23985/4112871218.py:6: FutureWarning:\n",
      "\n",
      "Setting an item of incompatible dtype is deprecated and will raise in a future error of pandas. Value 'frozen meals' has dtype incompatible with int64, please explicitly cast to a compatible dtype first.\n",
      "\n",
      "/tmp/ipykernel_23985/4112871218.py:6: FutureWarning:\n",
      "\n",
      "Setting an item of incompatible dtype is deprecated and will raise in a future error of pandas. Value 'dish cleaner' has dtype incompatible with int64, please explicitly cast to a compatible dtype first.\n",
      "\n",
      "/tmp/ipykernel_23985/4112871218.py:6: FutureWarning:\n",
      "\n",
      "Setting an item of incompatible dtype is deprecated and will raise in a future error of pandas. Value 'margarine' has dtype incompatible with int64, please explicitly cast to a compatible dtype first.\n",
      "\n",
      "/tmp/ipykernel_23985/4112871218.py:6: FutureWarning:\n",
      "\n",
      "Setting an item of incompatible dtype is deprecated and will raise in a future error of pandas. Value 'shopping bags' has dtype incompatible with int64, please explicitly cast to a compatible dtype first.\n",
      "\n",
      "/tmp/ipykernel_23985/4112871218.py:6: FutureWarning:\n",
      "\n",
      "Setting an item of incompatible dtype is deprecated and will raise in a future error of pandas. Value 'hamburger meat' has dtype incompatible with int64, please explicitly cast to a compatible dtype first.\n",
      "\n",
      "/tmp/ipykernel_23985/4112871218.py:6: FutureWarning:\n",
      "\n",
      "Setting an item of incompatible dtype is deprecated and will raise in a future error of pandas. Value 'yogurt' has dtype incompatible with int64, please explicitly cast to a compatible dtype first.\n",
      "\n",
      "/tmp/ipykernel_23985/4112871218.py:6: FutureWarning:\n",
      "\n",
      "Setting an item of incompatible dtype is deprecated and will raise in a future error of pandas. Value 'pastry' has dtype incompatible with int64, please explicitly cast to a compatible dtype first.\n",
      "\n",
      "/tmp/ipykernel_23985/4112871218.py:6: FutureWarning:\n",
      "\n",
      "Setting an item of incompatible dtype is deprecated and will raise in a future error of pandas. Value 'canned fish' has dtype incompatible with int64, please explicitly cast to a compatible dtype first.\n",
      "\n",
      "/tmp/ipykernel_23985/4112871218.py:6: FutureWarning:\n",
      "\n",
      "Setting an item of incompatible dtype is deprecated and will raise in a future error of pandas. Value 'pip fruit' has dtype incompatible with int64, please explicitly cast to a compatible dtype first.\n",
      "\n",
      "/tmp/ipykernel_23985/4112871218.py:6: FutureWarning:\n",
      "\n",
      "Setting an item of incompatible dtype is deprecated and will raise in a future error of pandas. Value 'sliced cheese' has dtype incompatible with int64, please explicitly cast to a compatible dtype first.\n",
      "\n",
      "/tmp/ipykernel_23985/4112871218.py:6: FutureWarning:\n",
      "\n",
      "Setting an item of incompatible dtype is deprecated and will raise in a future error of pandas. Value 'specialty bar' has dtype incompatible with int64, please explicitly cast to a compatible dtype first.\n",
      "\n",
      "/tmp/ipykernel_23985/4112871218.py:6: FutureWarning:\n",
      "\n",
      "Setting an item of incompatible dtype is deprecated and will raise in a future error of pandas. Value 'brown bread' has dtype incompatible with int64, please explicitly cast to a compatible dtype first.\n",
      "\n",
      "/tmp/ipykernel_23985/4112871218.py:6: FutureWarning:\n",
      "\n",
      "Setting an item of incompatible dtype is deprecated and will raise in a future error of pandas. Value 'meat' has dtype incompatible with int64, please explicitly cast to a compatible dtype first.\n",
      "\n",
      "/tmp/ipykernel_23985/4112871218.py:6: FutureWarning:\n",
      "\n",
      "Setting an item of incompatible dtype is deprecated and will raise in a future error of pandas. Value 'bottled water' has dtype incompatible with int64, please explicitly cast to a compatible dtype first.\n",
      "\n",
      "/tmp/ipykernel_23985/4112871218.py:6: FutureWarning:\n",
      "\n",
      "Setting an item of incompatible dtype is deprecated and will raise in a future error of pandas. Value 'whipped/sour cream' has dtype incompatible with int64, please explicitly cast to a compatible dtype first.\n",
      "\n",
      "/tmp/ipykernel_23985/4112871218.py:6: FutureWarning:\n",
      "\n",
      "Setting an item of incompatible dtype is deprecated and will raise in a future error of pandas. Value 'bottled beer' has dtype incompatible with int64, please explicitly cast to a compatible dtype first.\n",
      "\n",
      "/tmp/ipykernel_23985/4112871218.py:6: FutureWarning:\n",
      "\n",
      "Setting an item of incompatible dtype is deprecated and will raise in a future error of pandas. Value 'chicken' has dtype incompatible with int64, please explicitly cast to a compatible dtype first.\n",
      "\n",
      "/tmp/ipykernel_23985/4112871218.py:6: FutureWarning:\n",
      "\n",
      "Setting an item of incompatible dtype is deprecated and will raise in a future error of pandas. Value 'curd' has dtype incompatible with int64, please explicitly cast to a compatible dtype first.\n",
      "\n",
      "/tmp/ipykernel_23985/4112871218.py:6: FutureWarning:\n",
      "\n",
      "Setting an item of incompatible dtype is deprecated and will raise in a future error of pandas. Value 'beverages' has dtype incompatible with int64, please explicitly cast to a compatible dtype first.\n",
      "\n",
      "/tmp/ipykernel_23985/4112871218.py:6: FutureWarning:\n",
      "\n",
      "Setting an item of incompatible dtype is deprecated and will raise in a future error of pandas. Value 'berries' has dtype incompatible with int64, please explicitly cast to a compatible dtype first.\n",
      "\n",
      "/tmp/ipykernel_23985/4112871218.py:6: FutureWarning:\n",
      "\n",
      "Setting an item of incompatible dtype is deprecated and will raise in a future error of pandas. Value 'butter' has dtype incompatible with int64, please explicitly cast to a compatible dtype first.\n",
      "\n",
      "/tmp/ipykernel_23985/4112871218.py:6: FutureWarning:\n",
      "\n",
      "Setting an item of incompatible dtype is deprecated and will raise in a future error of pandas. Value 'fruit/vegetable juice' has dtype incompatible with int64, please explicitly cast to a compatible dtype first.\n",
      "\n",
      "/tmp/ipykernel_23985/4112871218.py:6: FutureWarning:\n",
      "\n",
      "Setting an item of incompatible dtype is deprecated and will raise in a future error of pandas. Value 'coffee' has dtype incompatible with int64, please explicitly cast to a compatible dtype first.\n",
      "\n",
      "/tmp/ipykernel_23985/4112871218.py:6: FutureWarning:\n",
      "\n",
      "Setting an item of incompatible dtype is deprecated and will raise in a future error of pandas. Value 'ham' has dtype incompatible with int64, please explicitly cast to a compatible dtype first.\n",
      "\n",
      "/tmp/ipykernel_23985/4112871218.py:6: FutureWarning:\n",
      "\n",
      "Setting an item of incompatible dtype is deprecated and will raise in a future error of pandas. Value 'citrus fruit' has dtype incompatible with int64, please explicitly cast to a compatible dtype first.\n",
      "\n",
      "/tmp/ipykernel_23985/4112871218.py:6: FutureWarning:\n",
      "\n",
      "Setting an item of incompatible dtype is deprecated and will raise in a future error of pandas. Value 'pot plants' has dtype incompatible with int64, please explicitly cast to a compatible dtype first.\n",
      "\n",
      "/tmp/ipykernel_23985/4112871218.py:6: FutureWarning:\n",
      "\n",
      "Setting an item of incompatible dtype is deprecated and will raise in a future error of pandas. Value 'ice cream' has dtype incompatible with int64, please explicitly cast to a compatible dtype first.\n",
      "\n",
      "/tmp/ipykernel_23985/4112871218.py:6: FutureWarning:\n",
      "\n",
      "Setting an item of incompatible dtype is deprecated and will raise in a future error of pandas. Value 'newspapers' has dtype incompatible with int64, please explicitly cast to a compatible dtype first.\n",
      "\n",
      "/tmp/ipykernel_23985/4112871218.py:6: FutureWarning:\n",
      "\n",
      "Setting an item of incompatible dtype is deprecated and will raise in a future error of pandas. Value 'dessert' has dtype incompatible with int64, please explicitly cast to a compatible dtype first.\n",
      "\n",
      "/tmp/ipykernel_23985/4112871218.py:6: FutureWarning:\n",
      "\n",
      "Setting an item of incompatible dtype is deprecated and will raise in a future error of pandas. Value 'candy' has dtype incompatible with int64, please explicitly cast to a compatible dtype first.\n",
      "\n",
      "/tmp/ipykernel_23985/4112871218.py:6: FutureWarning:\n",
      "\n",
      "Setting an item of incompatible dtype is deprecated and will raise in a future error of pandas. Value 'pork' has dtype incompatible with int64, please explicitly cast to a compatible dtype first.\n",
      "\n",
      "/tmp/ipykernel_23985/4112871218.py:6: FutureWarning:\n",
      "\n",
      "Setting an item of incompatible dtype is deprecated and will raise in a future error of pandas. Value 'pickled vegetables' has dtype incompatible with int64, please explicitly cast to a compatible dtype first.\n",
      "\n",
      "/tmp/ipykernel_23985/4112871218.py:6: FutureWarning:\n",
      "\n",
      "Setting an item of incompatible dtype is deprecated and will raise in a future error of pandas. Value 'hard cheese' has dtype incompatible with int64, please explicitly cast to a compatible dtype first.\n",
      "\n",
      "/tmp/ipykernel_23985/4112871218.py:6: FutureWarning:\n",
      "\n",
      "Setting an item of incompatible dtype is deprecated and will raise in a future error of pandas. Value 'white bread' has dtype incompatible with int64, please explicitly cast to a compatible dtype first.\n",
      "\n",
      "/tmp/ipykernel_23985/4112871218.py:6: FutureWarning:\n",
      "\n",
      "Setting an item of incompatible dtype is deprecated and will raise in a future error of pandas. Value 'red/blush wine' has dtype incompatible with int64, please explicitly cast to a compatible dtype first.\n",
      "\n",
      "/tmp/ipykernel_23985/4112871218.py:6: FutureWarning:\n",
      "\n",
      "Setting an item of incompatible dtype is deprecated and will raise in a future error of pandas. Value 'domestic eggs' has dtype incompatible with int64, please explicitly cast to a compatible dtype first.\n",
      "\n",
      "/tmp/ipykernel_23985/4112871218.py:6: FutureWarning:\n",
      "\n",
      "Setting an item of incompatible dtype is deprecated and will raise in a future error of pandas. Value 'semi-finished bread' has dtype incompatible with int64, please explicitly cast to a compatible dtype first.\n",
      "\n",
      "/tmp/ipykernel_23985/4112871218.py:6: FutureWarning:\n",
      "\n",
      "Setting an item of incompatible dtype is deprecated and will raise in a future error of pandas. Value 'misc. beverages' has dtype incompatible with int64, please explicitly cast to a compatible dtype first.\n",
      "\n",
      "/tmp/ipykernel_23985/4112871218.py:6: FutureWarning:\n",
      "\n",
      "Setting an item of incompatible dtype is deprecated and will raise in a future error of pandas. Value 'detergent' has dtype incompatible with int64, please explicitly cast to a compatible dtype first.\n",
      "\n",
      "/tmp/ipykernel_23985/4112871218.py:6: FutureWarning:\n",
      "\n",
      "Setting an item of incompatible dtype is deprecated and will raise in a future error of pandas. Value 'UHT-milk' has dtype incompatible with int64, please explicitly cast to a compatible dtype first.\n",
      "\n",
      "/tmp/ipykernel_23985/4112871218.py:6: FutureWarning:\n",
      "\n",
      "Setting an item of incompatible dtype is deprecated and will raise in a future error of pandas. Value 'specialty chocolate' has dtype incompatible with int64, please explicitly cast to a compatible dtype first.\n",
      "\n",
      "/tmp/ipykernel_23985/4112871218.py:6: FutureWarning:\n",
      "\n",
      "Setting an item of incompatible dtype is deprecated and will raise in a future error of pandas. Value 'photo/film' has dtype incompatible with int64, please explicitly cast to a compatible dtype first.\n",
      "\n",
      "/tmp/ipykernel_23985/4112871218.py:6: FutureWarning:\n",
      "\n",
      "Setting an item of incompatible dtype is deprecated and will raise in a future error of pandas. Value 'flour' has dtype incompatible with int64, please explicitly cast to a compatible dtype first.\n",
      "\n",
      "/tmp/ipykernel_23985/4112871218.py:6: FutureWarning:\n",
      "\n",
      "Setting an item of incompatible dtype is deprecated and will raise in a future error of pandas. Value 'packaged fruit/vegetables' has dtype incompatible with int64, please explicitly cast to a compatible dtype first.\n",
      "\n",
      "/tmp/ipykernel_23985/4112871218.py:6: FutureWarning:\n",
      "\n",
      "Setting an item of incompatible dtype is deprecated and will raise in a future error of pandas. Value 'white wine' has dtype incompatible with int64, please explicitly cast to a compatible dtype first.\n",
      "\n",
      "/tmp/ipykernel_23985/4112871218.py:6: FutureWarning:\n",
      "\n",
      "Setting an item of incompatible dtype is deprecated and will raise in a future error of pandas. Value 'herbs' has dtype incompatible with int64, please explicitly cast to a compatible dtype first.\n",
      "\n",
      "/tmp/ipykernel_23985/4112871218.py:6: FutureWarning:\n",
      "\n",
      "Setting an item of incompatible dtype is deprecated and will raise in a future error of pandas. Value 'hygiene articles' has dtype incompatible with int64, please explicitly cast to a compatible dtype first.\n",
      "\n",
      "/tmp/ipykernel_23985/4112871218.py:6: FutureWarning:\n",
      "\n",
      "Setting an item of incompatible dtype is deprecated and will raise in a future error of pandas. Value 'frozen potato products' has dtype incompatible with int64, please explicitly cast to a compatible dtype first.\n",
      "\n",
      "/tmp/ipykernel_23985/4112871218.py:6: FutureWarning:\n",
      "\n",
      "Setting an item of incompatible dtype is deprecated and will raise in a future error of pandas. Value 'sugar' has dtype incompatible with int64, please explicitly cast to a compatible dtype first.\n",
      "\n",
      "/tmp/ipykernel_23985/4112871218.py:6: FutureWarning:\n",
      "\n",
      "Setting an item of incompatible dtype is deprecated and will raise in a future error of pandas. Value 'chocolate' has dtype incompatible with int64, please explicitly cast to a compatible dtype first.\n",
      "\n",
      "/tmp/ipykernel_23985/4112871218.py:6: FutureWarning:\n",
      "\n",
      "Setting an item of incompatible dtype is deprecated and will raise in a future error of pandas. Value 'liquor' has dtype incompatible with int64, please explicitly cast to a compatible dtype first.\n",
      "\n",
      "/tmp/ipykernel_23985/4112871218.py:6: FutureWarning:\n",
      "\n",
      "Setting an item of incompatible dtype is deprecated and will raise in a future error of pandas. Value 'condensed milk' has dtype incompatible with int64, please explicitly cast to a compatible dtype first.\n",
      "\n",
      "/tmp/ipykernel_23985/4112871218.py:6: FutureWarning:\n",
      "\n",
      "Setting an item of incompatible dtype is deprecated and will raise in a future error of pandas. Value 'curd cheese' has dtype incompatible with int64, please explicitly cast to a compatible dtype first.\n",
      "\n",
      "/tmp/ipykernel_23985/4112871218.py:6: FutureWarning:\n",
      "\n",
      "Setting an item of incompatible dtype is deprecated and will raise in a future error of pandas. Value 'frozen vegetables' has dtype incompatible with int64, please explicitly cast to a compatible dtype first.\n",
      "\n",
      "/tmp/ipykernel_23985/4112871218.py:6: FutureWarning:\n",
      "\n",
      "Setting an item of incompatible dtype is deprecated and will raise in a future error of pandas. Value 'cleaner' has dtype incompatible with int64, please explicitly cast to a compatible dtype first.\n",
      "\n",
      "/tmp/ipykernel_23985/4112871218.py:6: FutureWarning:\n",
      "\n",
      "Setting an item of incompatible dtype is deprecated and will raise in a future error of pandas. Value 'napkins' has dtype incompatible with int64, please explicitly cast to a compatible dtype first.\n",
      "\n",
      "/tmp/ipykernel_23985/4112871218.py:6: FutureWarning:\n",
      "\n",
      "Setting an item of incompatible dtype is deprecated and will raise in a future error of pandas. Value 'pasta' has dtype incompatible with int64, please explicitly cast to a compatible dtype first.\n",
      "\n",
      "/tmp/ipykernel_23985/4112871218.py:6: FutureWarning:\n",
      "\n",
      "Setting an item of incompatible dtype is deprecated and will raise in a future error of pandas. Value 'sparkling wine' has dtype incompatible with int64, please explicitly cast to a compatible dtype first.\n",
      "\n",
      "/tmp/ipykernel_23985/4112871218.py:6: FutureWarning:\n",
      "\n",
      "Setting an item of incompatible dtype is deprecated and will raise in a future error of pandas. Value 'finished products' has dtype incompatible with int64, please explicitly cast to a compatible dtype first.\n",
      "\n",
      "/tmp/ipykernel_23985/4112871218.py:6: FutureWarning:\n",
      "\n",
      "Setting an item of incompatible dtype is deprecated and will raise in a future error of pandas. Value 'waffles' has dtype incompatible with int64, please explicitly cast to a compatible dtype first.\n",
      "\n",
      "/tmp/ipykernel_23985/4112871218.py:6: FutureWarning:\n",
      "\n",
      "Setting an item of incompatible dtype is deprecated and will raise in a future error of pandas. Value 'turkey' has dtype incompatible with int64, please explicitly cast to a compatible dtype first.\n",
      "\n",
      "/tmp/ipykernel_23985/4112871218.py:6: FutureWarning:\n",
      "\n",
      "Setting an item of incompatible dtype is deprecated and will raise in a future error of pandas. Value 'processed cheese' has dtype incompatible with int64, please explicitly cast to a compatible dtype first.\n",
      "\n",
      "/tmp/ipykernel_23985/4112871218.py:6: FutureWarning:\n",
      "\n",
      "Setting an item of incompatible dtype is deprecated and will raise in a future error of pandas. Value 'onions' has dtype incompatible with int64, please explicitly cast to a compatible dtype first.\n",
      "\n",
      "/tmp/ipykernel_23985/4112871218.py:6: FutureWarning:\n",
      "\n",
      "Setting an item of incompatible dtype is deprecated and will raise in a future error of pandas. Value 'cream cheese ' has dtype incompatible with int64, please explicitly cast to a compatible dtype first.\n",
      "\n",
      "/tmp/ipykernel_23985/4112871218.py:6: FutureWarning:\n",
      "\n",
      "Setting an item of incompatible dtype is deprecated and will raise in a future error of pandas. Value 'oil' has dtype incompatible with int64, please explicitly cast to a compatible dtype first.\n",
      "\n",
      "/tmp/ipykernel_23985/4112871218.py:6: FutureWarning:\n",
      "\n",
      "Setting an item of incompatible dtype is deprecated and will raise in a future error of pandas. Value 'flower soil/fertilizer' has dtype incompatible with int64, please explicitly cast to a compatible dtype first.\n",
      "\n",
      "/tmp/ipykernel_23985/4112871218.py:6: FutureWarning:\n",
      "\n",
      "Setting an item of incompatible dtype is deprecated and will raise in a future error of pandas. Value 'fish' has dtype incompatible with int64, please explicitly cast to a compatible dtype first.\n",
      "\n",
      "/tmp/ipykernel_23985/4112871218.py:6: FutureWarning:\n",
      "\n",
      "Setting an item of incompatible dtype is deprecated and will raise in a future error of pandas. Value 'salty snack' has dtype incompatible with int64, please explicitly cast to a compatible dtype first.\n",
      "\n",
      "/tmp/ipykernel_23985/4112871218.py:6: FutureWarning:\n",
      "\n",
      "Setting an item of incompatible dtype is deprecated and will raise in a future error of pandas. Value 'soft cheese' has dtype incompatible with int64, please explicitly cast to a compatible dtype first.\n",
      "\n",
      "/tmp/ipykernel_23985/4112871218.py:6: FutureWarning:\n",
      "\n",
      "Setting an item of incompatible dtype is deprecated and will raise in a future error of pandas. Value 'canned vegetables' has dtype incompatible with int64, please explicitly cast to a compatible dtype first.\n",
      "\n",
      "/tmp/ipykernel_23985/4112871218.py:6: FutureWarning:\n",
      "\n",
      "Setting an item of incompatible dtype is deprecated and will raise in a future error of pandas. Value 'cling film/bags' has dtype incompatible with int64, please explicitly cast to a compatible dtype first.\n",
      "\n",
      "/tmp/ipykernel_23985/4112871218.py:6: FutureWarning:\n",
      "\n",
      "Setting an item of incompatible dtype is deprecated and will raise in a future error of pandas. Value 'grapes' has dtype incompatible with int64, please explicitly cast to a compatible dtype first.\n",
      "\n",
      "/tmp/ipykernel_23985/4112871218.py:6: FutureWarning:\n",
      "\n",
      "Setting an item of incompatible dtype is deprecated and will raise in a future error of pandas. Value 'chewing gum' has dtype incompatible with int64, please explicitly cast to a compatible dtype first.\n",
      "\n",
      "/tmp/ipykernel_23985/4112871218.py:6: FutureWarning:\n",
      "\n",
      "Setting an item of incompatible dtype is deprecated and will raise in a future error of pandas. Value 'long life bakery product' has dtype incompatible with int64, please explicitly cast to a compatible dtype first.\n",
      "\n",
      "/tmp/ipykernel_23985/4112871218.py:6: FutureWarning:\n",
      "\n",
      "Setting an item of incompatible dtype is deprecated and will raise in a future error of pandas. Value 'cat food' has dtype incompatible with int64, please explicitly cast to a compatible dtype first.\n",
      "\n",
      "/tmp/ipykernel_23985/4112871218.py:6: FutureWarning:\n",
      "\n",
      "Setting an item of incompatible dtype is deprecated and will raise in a future error of pandas. Value 'soups' has dtype incompatible with int64, please explicitly cast to a compatible dtype first.\n",
      "\n",
      "/tmp/ipykernel_23985/4112871218.py:6: FutureWarning:\n",
      "\n",
      "Setting an item of incompatible dtype is deprecated and will raise in a future error of pandas. Value 'instant coffee' has dtype incompatible with int64, please explicitly cast to a compatible dtype first.\n",
      "\n",
      "/tmp/ipykernel_23985/4112871218.py:6: FutureWarning:\n",
      "\n",
      "Setting an item of incompatible dtype is deprecated and will raise in a future error of pandas. Value 'frozen fish' has dtype incompatible with int64, please explicitly cast to a compatible dtype first.\n",
      "\n",
      "/tmp/ipykernel_23985/4112871218.py:6: FutureWarning:\n",
      "\n",
      "Setting an item of incompatible dtype is deprecated and will raise in a future error of pandas. Value 'vinegar' has dtype incompatible with int64, please explicitly cast to a compatible dtype first.\n",
      "\n",
      "/tmp/ipykernel_23985/4112871218.py:6: FutureWarning:\n",
      "\n",
      "Setting an item of incompatible dtype is deprecated and will raise in a future error of pandas. Value 'specialty cheese' has dtype incompatible with int64, please explicitly cast to a compatible dtype first.\n",
      "\n",
      "/tmp/ipykernel_23985/4112871218.py:6: FutureWarning:\n",
      "\n",
      "Setting an item of incompatible dtype is deprecated and will raise in a future error of pandas. Value 'zwieback' has dtype incompatible with int64, please explicitly cast to a compatible dtype first.\n",
      "\n",
      "/tmp/ipykernel_23985/4112871218.py:6: FutureWarning:\n",
      "\n",
      "Setting an item of incompatible dtype is deprecated and will raise in a future error of pandas. Value 'dog food' has dtype incompatible with int64, please explicitly cast to a compatible dtype first.\n",
      "\n",
      "/tmp/ipykernel_23985/4112871218.py:6: FutureWarning:\n",
      "\n",
      "Setting an item of incompatible dtype is deprecated and will raise in a future error of pandas. Value 'liquor (appetizer)' has dtype incompatible with int64, please explicitly cast to a compatible dtype first.\n",
      "\n",
      "/tmp/ipykernel_23985/4112871218.py:6: FutureWarning:\n",
      "\n",
      "Setting an item of incompatible dtype is deprecated and will raise in a future error of pandas. Value 'spread cheese' has dtype incompatible with int64, please explicitly cast to a compatible dtype first.\n",
      "\n",
      "/tmp/ipykernel_23985/4112871218.py:6: FutureWarning:\n",
      "\n",
      "Setting an item of incompatible dtype is deprecated and will raise in a future error of pandas. Value 'mustard' has dtype incompatible with int64, please explicitly cast to a compatible dtype first.\n",
      "\n",
      "/tmp/ipykernel_23985/4112871218.py:6: FutureWarning:\n",
      "\n",
      "Setting an item of incompatible dtype is deprecated and will raise in a future error of pandas. Value 'popcorn' has dtype incompatible with int64, please explicitly cast to a compatible dtype first.\n",
      "\n",
      "/tmp/ipykernel_23985/4112871218.py:6: FutureWarning:\n",
      "\n",
      "Setting an item of incompatible dtype is deprecated and will raise in a future error of pandas. Value 'cake bar' has dtype incompatible with int64, please explicitly cast to a compatible dtype first.\n",
      "\n",
      "/tmp/ipykernel_23985/4112871218.py:6: FutureWarning:\n",
      "\n",
      "Setting an item of incompatible dtype is deprecated and will raise in a future error of pandas. Value 'roll products ' has dtype incompatible with int64, please explicitly cast to a compatible dtype first.\n",
      "\n",
      "/tmp/ipykernel_23985/4112871218.py:6: FutureWarning:\n",
      "\n",
      "Setting an item of incompatible dtype is deprecated and will raise in a future error of pandas. Value 'salt' has dtype incompatible with int64, please explicitly cast to a compatible dtype first.\n",
      "\n",
      "/tmp/ipykernel_23985/4112871218.py:6: FutureWarning:\n",
      "\n",
      "Setting an item of incompatible dtype is deprecated and will raise in a future error of pandas. Value 'jam' has dtype incompatible with int64, please explicitly cast to a compatible dtype first.\n",
      "\n",
      "/tmp/ipykernel_23985/4112871218.py:6: FutureWarning:\n",
      "\n",
      "Setting an item of incompatible dtype is deprecated and will raise in a future error of pandas. Value 'Instant food products' has dtype incompatible with int64, please explicitly cast to a compatible dtype first.\n",
      "\n",
      "/tmp/ipykernel_23985/4112871218.py:6: FutureWarning:\n",
      "\n",
      "Setting an item of incompatible dtype is deprecated and will raise in a future error of pandas. Value 'pet care' has dtype incompatible with int64, please explicitly cast to a compatible dtype first.\n",
      "\n",
      "/tmp/ipykernel_23985/4112871218.py:6: FutureWarning:\n",
      "\n",
      "Setting an item of incompatible dtype is deprecated and will raise in a future error of pandas. Value 'seasonal products' has dtype incompatible with int64, please explicitly cast to a compatible dtype first.\n",
      "\n",
      "/tmp/ipykernel_23985/4112871218.py:6: FutureWarning:\n",
      "\n",
      "Setting an item of incompatible dtype is deprecated and will raise in a future error of pandas. Value 'female sanitary products' has dtype incompatible with int64, please explicitly cast to a compatible dtype first.\n",
      "\n",
      "/tmp/ipykernel_23985/4112871218.py:6: FutureWarning:\n",
      "\n",
      "Setting an item of incompatible dtype is deprecated and will raise in a future error of pandas. Value 'house keeping products' has dtype incompatible with int64, please explicitly cast to a compatible dtype first.\n",
      "\n",
      "/tmp/ipykernel_23985/4112871218.py:6: FutureWarning:\n",
      "\n",
      "Setting an item of incompatible dtype is deprecated and will raise in a future error of pandas. Value 'cookware' has dtype incompatible with int64, please explicitly cast to a compatible dtype first.\n",
      "\n",
      "/tmp/ipykernel_23985/4112871218.py:6: FutureWarning:\n",
      "\n",
      "Setting an item of incompatible dtype is deprecated and will raise in a future error of pandas. Value 'potato products' has dtype incompatible with int64, please explicitly cast to a compatible dtype first.\n",
      "\n",
      "/tmp/ipykernel_23985/4112871218.py:6: FutureWarning:\n",
      "\n",
      "Setting an item of incompatible dtype is deprecated and will raise in a future error of pandas. Value 'baking powder' has dtype incompatible with int64, please explicitly cast to a compatible dtype first.\n",
      "\n",
      "/tmp/ipykernel_23985/4112871218.py:6: FutureWarning:\n",
      "\n",
      "Setting an item of incompatible dtype is deprecated and will raise in a future error of pandas. Value 'spices' has dtype incompatible with int64, please explicitly cast to a compatible dtype first.\n",
      "\n",
      "/tmp/ipykernel_23985/4112871218.py:6: FutureWarning:\n",
      "\n",
      "Setting an item of incompatible dtype is deprecated and will raise in a future error of pandas. Value 'soap' has dtype incompatible with int64, please explicitly cast to a compatible dtype first.\n",
      "\n",
      "/tmp/ipykernel_23985/4112871218.py:6: FutureWarning:\n",
      "\n",
      "Setting an item of incompatible dtype is deprecated and will raise in a future error of pandas. Value 'liver loaf' has dtype incompatible with int64, please explicitly cast to a compatible dtype first.\n",
      "\n",
      "/tmp/ipykernel_23985/4112871218.py:6: FutureWarning:\n",
      "\n",
      "Setting an item of incompatible dtype is deprecated and will raise in a future error of pandas. Value 'chocolate marshmallow' has dtype incompatible with int64, please explicitly cast to a compatible dtype first.\n",
      "\n",
      "/tmp/ipykernel_23985/4112871218.py:6: FutureWarning:\n",
      "\n",
      "Setting an item of incompatible dtype is deprecated and will raise in a future error of pandas. Value 'light bulbs' has dtype incompatible with int64, please explicitly cast to a compatible dtype first.\n",
      "\n",
      "/tmp/ipykernel_23985/4112871218.py:6: FutureWarning:\n",
      "\n",
      "Setting an item of incompatible dtype is deprecated and will raise in a future error of pandas. Value 'brandy' has dtype incompatible with int64, please explicitly cast to a compatible dtype first.\n",
      "\n",
      "/tmp/ipykernel_23985/4112871218.py:6: FutureWarning:\n",
      "\n",
      "Setting an item of incompatible dtype is deprecated and will raise in a future error of pandas. Value 'meat spreads' has dtype incompatible with int64, please explicitly cast to a compatible dtype first.\n",
      "\n",
      "/tmp/ipykernel_23985/4112871218.py:6: FutureWarning:\n",
      "\n",
      "Setting an item of incompatible dtype is deprecated and will raise in a future error of pandas. Value 'frozen dessert' has dtype incompatible with int64, please explicitly cast to a compatible dtype first.\n",
      "\n",
      "/tmp/ipykernel_23985/4112871218.py:6: FutureWarning:\n",
      "\n",
      "Setting an item of incompatible dtype is deprecated and will raise in a future error of pandas. Value 'sweet spreads' has dtype incompatible with int64, please explicitly cast to a compatible dtype first.\n",
      "\n",
      "/tmp/ipykernel_23985/4112871218.py:6: FutureWarning:\n",
      "\n",
      "Setting an item of incompatible dtype is deprecated and will raise in a future error of pandas. Value 'decalcifier' has dtype incompatible with int64, please explicitly cast to a compatible dtype first.\n",
      "\n",
      "/tmp/ipykernel_23985/4112871218.py:6: FutureWarning:\n",
      "\n",
      "Setting an item of incompatible dtype is deprecated and will raise in a future error of pandas. Value 'flower (seeds)' has dtype incompatible with int64, please explicitly cast to a compatible dtype first.\n",
      "\n",
      "/tmp/ipykernel_23985/4112871218.py:6: FutureWarning:\n",
      "\n",
      "Setting an item of incompatible dtype is deprecated and will raise in a future error of pandas. Value 'hair spray' has dtype incompatible with int64, please explicitly cast to a compatible dtype first.\n",
      "\n",
      "/tmp/ipykernel_23985/4112871218.py:6: FutureWarning:\n",
      "\n",
      "Setting an item of incompatible dtype is deprecated and will raise in a future error of pandas. Value 'mayonnaise' has dtype incompatible with int64, please explicitly cast to a compatible dtype first.\n",
      "\n",
      "/tmp/ipykernel_23985/4112871218.py:6: FutureWarning:\n",
      "\n",
      "Setting an item of incompatible dtype is deprecated and will raise in a future error of pandas. Value 'nuts/prunes' has dtype incompatible with int64, please explicitly cast to a compatible dtype first.\n",
      "\n",
      "/tmp/ipykernel_23985/4112871218.py:6: FutureWarning:\n",
      "\n",
      "Setting an item of incompatible dtype is deprecated and will raise in a future error of pandas. Value 'frozen fruits' has dtype incompatible with int64, please explicitly cast to a compatible dtype first.\n",
      "\n",
      "/tmp/ipykernel_23985/4112871218.py:6: FutureWarning:\n",
      "\n",
      "Setting an item of incompatible dtype is deprecated and will raise in a future error of pandas. Value 'rum' has dtype incompatible with int64, please explicitly cast to a compatible dtype first.\n",
      "\n",
      "/tmp/ipykernel_23985/4112871218.py:6: FutureWarning:\n",
      "\n",
      "Setting an item of incompatible dtype is deprecated and will raise in a future error of pandas. Value 'honey' has dtype incompatible with int64, please explicitly cast to a compatible dtype first.\n",
      "\n"
     ]
    },
    {
     "data": {
      "text/html": [
       "<div>\n",
       "<style scoped>\n",
       "    .dataframe tbody tr th:only-of-type {\n",
       "        vertical-align: middle;\n",
       "    }\n",
       "\n",
       "    .dataframe tbody tr th {\n",
       "        vertical-align: top;\n",
       "    }\n",
       "\n",
       "    .dataframe thead th {\n",
       "        text-align: right;\n",
       "    }\n",
       "</style>\n",
       "<table border=\"1\" class=\"dataframe\">\n",
       "  <thead>\n",
       "    <tr style=\"text-align: right;\">\n",
       "      <th></th>\n",
       "      <th>tropical fruit</th>\n",
       "      <th>whole milk</th>\n",
       "      <th>pip fruit</th>\n",
       "      <th>other vegetables</th>\n",
       "      <th>rolls/buns</th>\n",
       "      <th>pot plants</th>\n",
       "      <th>citrus fruit</th>\n",
       "      <th>beef</th>\n",
       "      <th>frankfurter</th>\n",
       "      <th>chicken</th>\n",
       "      <th>...</th>\n",
       "      <th>flower (seeds)</th>\n",
       "      <th>rice</th>\n",
       "      <th>tea</th>\n",
       "      <th>salad dressing</th>\n",
       "      <th>specialty vegetables</th>\n",
       "      <th>pudding powder</th>\n",
       "      <th>ready soups</th>\n",
       "      <th>make up remover</th>\n",
       "      <th>toilet cleaner</th>\n",
       "      <th>preservation products</th>\n",
       "    </tr>\n",
       "  </thead>\n",
       "  <tbody>\n",
       "    <tr>\n",
       "      <th>0</th>\n",
       "      <td>0</td>\n",
       "      <td>whole milk</td>\n",
       "      <td>0</td>\n",
       "      <td>0</td>\n",
       "      <td>0</td>\n",
       "      <td>0</td>\n",
       "      <td>0</td>\n",
       "      <td>0</td>\n",
       "      <td>0</td>\n",
       "      <td>0</td>\n",
       "      <td>...</td>\n",
       "      <td>0</td>\n",
       "      <td>0</td>\n",
       "      <td>0</td>\n",
       "      <td>0</td>\n",
       "      <td>0</td>\n",
       "      <td>0</td>\n",
       "      <td>0</td>\n",
       "      <td>0</td>\n",
       "      <td>0</td>\n",
       "      <td>0</td>\n",
       "    </tr>\n",
       "    <tr>\n",
       "      <th>1</th>\n",
       "      <td>0</td>\n",
       "      <td>whole milk</td>\n",
       "      <td>0</td>\n",
       "      <td>0</td>\n",
       "      <td>0</td>\n",
       "      <td>0</td>\n",
       "      <td>0</td>\n",
       "      <td>0</td>\n",
       "      <td>0</td>\n",
       "      <td>0</td>\n",
       "      <td>...</td>\n",
       "      <td>0</td>\n",
       "      <td>0</td>\n",
       "      <td>0</td>\n",
       "      <td>0</td>\n",
       "      <td>0</td>\n",
       "      <td>0</td>\n",
       "      <td>0</td>\n",
       "      <td>0</td>\n",
       "      <td>0</td>\n",
       "      <td>0</td>\n",
       "    </tr>\n",
       "    <tr>\n",
       "      <th>2</th>\n",
       "      <td>0</td>\n",
       "      <td>0</td>\n",
       "      <td>0</td>\n",
       "      <td>0</td>\n",
       "      <td>0</td>\n",
       "      <td>0</td>\n",
       "      <td>0</td>\n",
       "      <td>0</td>\n",
       "      <td>0</td>\n",
       "      <td>0</td>\n",
       "      <td>...</td>\n",
       "      <td>0</td>\n",
       "      <td>0</td>\n",
       "      <td>0</td>\n",
       "      <td>0</td>\n",
       "      <td>0</td>\n",
       "      <td>0</td>\n",
       "      <td>0</td>\n",
       "      <td>0</td>\n",
       "      <td>0</td>\n",
       "      <td>0</td>\n",
       "    </tr>\n",
       "    <tr>\n",
       "      <th>3</th>\n",
       "      <td>0</td>\n",
       "      <td>0</td>\n",
       "      <td>0</td>\n",
       "      <td>0</td>\n",
       "      <td>0</td>\n",
       "      <td>0</td>\n",
       "      <td>0</td>\n",
       "      <td>0</td>\n",
       "      <td>0</td>\n",
       "      <td>0</td>\n",
       "      <td>...</td>\n",
       "      <td>0</td>\n",
       "      <td>0</td>\n",
       "      <td>0</td>\n",
       "      <td>0</td>\n",
       "      <td>0</td>\n",
       "      <td>0</td>\n",
       "      <td>0</td>\n",
       "      <td>0</td>\n",
       "      <td>0</td>\n",
       "      <td>0</td>\n",
       "    </tr>\n",
       "    <tr>\n",
       "      <th>4</th>\n",
       "      <td>0</td>\n",
       "      <td>0</td>\n",
       "      <td>0</td>\n",
       "      <td>0</td>\n",
       "      <td>0</td>\n",
       "      <td>0</td>\n",
       "      <td>0</td>\n",
       "      <td>0</td>\n",
       "      <td>0</td>\n",
       "      <td>0</td>\n",
       "      <td>...</td>\n",
       "      <td>0</td>\n",
       "      <td>0</td>\n",
       "      <td>0</td>\n",
       "      <td>0</td>\n",
       "      <td>0</td>\n",
       "      <td>0</td>\n",
       "      <td>0</td>\n",
       "      <td>0</td>\n",
       "      <td>0</td>\n",
       "      <td>0</td>\n",
       "    </tr>\n",
       "  </tbody>\n",
       "</table>\n",
       "<p>5 rows × 167 columns</p>\n",
       "</div>"
      ],
      "text/plain": [
       "  tropical fruit  whole milk pip fruit other vegetables rolls/buns pot plants  \\\n",
       "0              0  whole milk         0                0          0          0   \n",
       "1              0  whole milk         0                0          0          0   \n",
       "2              0           0         0                0          0          0   \n",
       "3              0           0         0                0          0          0   \n",
       "4              0           0         0                0          0          0   \n",
       "\n",
       "  citrus fruit beef frankfurter chicken  ... flower (seeds) rice tea  \\\n",
       "0            0    0           0       0  ...              0    0   0   \n",
       "1            0    0           0       0  ...              0    0   0   \n",
       "2            0    0           0       0  ...              0    0   0   \n",
       "3            0    0           0       0  ...              0    0   0   \n",
       "4            0    0           0       0  ...              0    0   0   \n",
       "\n",
       "  salad dressing specialty vegetables pudding powder ready soups  \\\n",
       "0              0                    0              0           0   \n",
       "1              0                    0              0           0   \n",
       "2              0                    0              0           0   \n",
       "3              0                    0              0           0   \n",
       "4              0                    0              0           0   \n",
       "\n",
       "  make up remover toilet cleaner preservation products  \n",
       "0               0              0                     0  \n",
       "1               0              0                     0  \n",
       "2               0              0                     0  \n",
       "3               0              0                     0  \n",
       "4               0              0                     0  \n",
       "\n",
       "[5 rows x 167 columns]"
      ]
     },
     "execution_count": 9,
     "metadata": {},
     "output_type": "execute_result"
    }
   ],
   "source": [
    "#Replacing all non-zero values with the name of product:\n",
    "\n",
    "def product_names(x):\n",
    "    for product in products:\n",
    "        if x[product] > 0:\n",
    "            x[product] = product\n",
    "    return x\n",
    "\n",
    "data1 = data1.apply(product_names, axis=1)\n",
    "data1.head()"
   ]
  },
  {
   "cell_type": "code",
   "execution_count": 11,
   "metadata": {},
   "outputs": [
    {
     "name": "stdout",
     "output_type": "stream",
     "text": [
      "Total Number of Transactions: 14963\n"
     ]
    }
   ],
   "source": [
    "print(\"Total Number of Transactions:\", len(data1))"
   ]
  },
  {
   "cell_type": "code",
   "execution_count": 12,
   "metadata": {},
   "outputs": [
    {
     "data": {
      "text/plain": [
       "[['whole milk', 'yogurt', 'sausage', 'semi-finished bread'],\n",
       " ['whole milk', 'pastry', 'salty snack'],\n",
       " ['canned beer', 'misc. beverages'],\n",
       " ['sausage', 'hygiene articles'],\n",
       " ['soda', 'pickled vegetables'],\n",
       " ['frankfurter', 'curd'],\n",
       " ['whole milk', 'rolls/buns', 'sausage'],\n",
       " ['whole milk', 'soda'],\n",
       " ['beef', 'white bread'],\n",
       " ['frankfurter', 'soda', 'whipped/sour cream']]"
      ]
     },
     "execution_count": 12,
     "metadata": {},
     "output_type": "execute_result"
    }
   ],
   "source": [
    "# Removing Zeros, Extracting the list of items bought per customer\n",
    "\n",
    "x = data1.values\n",
    "x = [sub[~(sub==0)].tolist() for sub in x if sub [sub != 0].tolist()]\n",
    "transactions = x\n",
    "transactions[0:10]"
   ]
  },
  {
   "cell_type": "markdown",
   "metadata": {},
   "source": [
    "### Implementation of Apriori Algorithm"
   ]
  },
  {
   "cell_type": "code",
   "execution_count": 13,
   "metadata": {},
   "outputs": [
    {
     "name": "stdout",
     "output_type": "stream",
     "text": [
      "RelationRecord(items=frozenset({'liver loaf', 'fruit/vegetable juice'}), support=0.00040098910646260775, ordered_statistics=[OrderedStatistic(items_base=frozenset({'liver loaf'}), items_add=frozenset({'fruit/vegetable juice'}), confidence=0.12, lift=3.5276227897838903)])\n"
     ]
    }
   ],
   "source": [
    "rules = apriori(transactions, min_support=0.00030,min_confidence=0.05, min_lift=3, max_length=2, target=\"rules\")\n",
    "association_results = list(rules)\n",
    "print(association_results[0])"
   ]
  },
  {
   "cell_type": "code",
   "execution_count": 14,
   "metadata": {},
   "outputs": [
    {
     "name": "stdout",
     "output_type": "stream",
     "text": [
      "Rule :  liver loaf  -> fruit/vegetable juice\n",
      "Support :  fruit/vegetable juice\n",
      "Confidence :  0.12\n",
      "Lift :  3.5276227897838903\n",
      "=================================\n",
      "Rule :  ham  -> pickled vegetables\n",
      "Support :  pickled vegetables\n",
      "Confidence :  0.05970149253731344\n",
      "Lift :  3.4895055970149254\n",
      "=================================\n",
      "Rule :  roll products   -> meat\n",
      "Support :  meat\n",
      "Confidence :  0.06097560975609757\n",
      "Lift :  3.620547812620984\n",
      "=================================\n",
      "Rule :  misc. beverages  -> salt\n",
      "Support :  salt\n",
      "Confidence :  0.05617977528089888\n",
      "Lift :  3.5619405827461437\n",
      "=================================\n",
      "Rule :  spread cheese  -> misc. beverages\n",
      "Support :  misc. beverages\n",
      "Confidence :  0.05\n",
      "Lift :  3.170127118644068\n",
      "=================================\n",
      "Rule :  seasonal products  -> soups\n",
      "Support :  soups\n",
      "Confidence :  0.10416666666666667\n",
      "Lift :  14.704205974842768\n",
      "=================================\n",
      "Rule :  spread cheese  -> sugar\n",
      "Support :  sugar\n",
      "Confidence :  0.06\n",
      "Lift :  3.3878490566037733\n",
      "=================================\n"
     ]
    }
   ],
   "source": [
    "for item in association_results:\n",
    "\n",
    "    pair = item[0]\n",
    "    items = [x for x in pair]\n",
    "\n",
    "    print(\"Rule : \",items[0], \" -> \"+ items[1])\n",
    "    print(\"Support : \",str(items[1]))\n",
    "    print(\"Confidence : \",str(item[2][0][2]))\n",
    "    print(\"Lift : \", str(item[2][0][3]))\n",
    "\n",
    "    print(\"=================================\")"
   ]
  },
  {
   "cell_type": "markdown",
   "metadata": {},
   "source": [
    "Source:\n",
    "\n",
    "https://thecleverprogrammer.com/2020/11/16/apriori-algorithm-using-python/\n",
    "\n",
    "https://github.com/amankharwal/Website-data/blob/master/association_rule_market_basket_analysis.ipynb"
   ]
  }
 ],
 "metadata": {
  "kernelspec": {
   "display_name": "dl",
   "language": "python",
   "name": "python3"
  },
  "language_info": {
   "codemirror_mode": {
    "name": "ipython",
    "version": 3
   },
   "file_extension": ".py",
   "mimetype": "text/x-python",
   "name": "python",
   "nbconvert_exporter": "python",
   "pygments_lexer": "ipython3",
   "version": "3.11.5"
  }
 },
 "nbformat": 4,
 "nbformat_minor": 2
}
