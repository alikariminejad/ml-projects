{
 "cells": [
  {
   "cell_type": "code",
   "execution_count": 3,
   "metadata": {},
   "outputs": [
    {
     "name": "stdout",
     "output_type": "stream",
     "text": [
      "Wrong words: ['Data Scence', 'Machine Learnin', 'nowadasy']\n",
      "Corrected Words are: \n",
      "Data Science Machine Learning nowadays "
     ]
    }
   ],
   "source": [
    "from textblob import TextBlob\n",
    "words = [\"Data Scence\",\"Machine Learnin\",\"nowadasy\"]\n",
    "corrected_words = []\n",
    "for i in words:\n",
    "    corrected_words.append(TextBlob(i))\n",
    "print(\"Wrong words:\", words)\n",
    "print(\"Corrected Words are: \")\n",
    "for i in corrected_words:\n",
    "    print(i.correct(),end=\" \")"
   ]
  },
  {
   "cell_type": "markdown",
   "metadata": {},
   "source": [
    "Source:\n",
    "\n",
    "https://thecleverprogrammer.com/2020/12/18/spelling-correction-with-python/"
   ]
  }
 ],
 "metadata": {
  "kernelspec": {
   "display_name": "ali-gpu",
   "language": "python",
   "name": "python3"
  },
  "language_info": {
   "codemirror_mode": {
    "name": "ipython",
    "version": 3
   },
   "file_extension": ".py",
   "mimetype": "text/x-python",
   "name": "python",
   "nbconvert_exporter": "python",
   "pygments_lexer": "ipython3",
   "version": "3.11.3"
  },
  "orig_nbformat": 4
 },
 "nbformat": 4,
 "nbformat_minor": 2
}
